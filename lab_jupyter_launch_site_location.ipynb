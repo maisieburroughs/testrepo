{
  "metadata": {
    "kernelspec": {
      "name": "python",
      "display_name": "Python (Pyodide)",
      "language": "python"
    },
    "language_info": {
      "codemirror_mode": {
        "name": "python",
        "version": 3
      },
      "file_extension": ".py",
      "mimetype": "text/x-python",
      "name": "python",
      "nbconvert_exporter": "python",
      "pygments_lexer": "ipython3",
      "version": "3.8"
    },
    "prev_pub_hash": "0f9db842b41c859223722809f8be602f5df9334348bd206b11e3af58c30eb345"
  },
  "nbformat_minor": 4,
  "nbformat": 4,
  "cells": [
    {
      "cell_type": "markdown",
      "source": "<p style=\"text-align:center\">\n    <a href=\"https://skills.network/?utm_medium=Exinfluencer&utm_source=Exinfluencer&utm_content=000026UJ&utm_term=10006555&utm_id=NA-SkillsNetwork-Channel-SkillsNetworkCoursesIBMDS0321ENSkillsNetwork26802033-2022-01-01\" target=\"_blank\">\n    <img src=\"https://cf-courses-data.s3.us.cloud-object-storage.appdomain.cloud/assets/logos/SN_web_lightmode.png\" width=\"200\" alt=\"Skills Network Logo\">\n    </a>\n</p>\n",
      "metadata": {}
    },
    {
      "cell_type": "markdown",
      "source": "# **Hands-on Lab: Interactive Visual Analytics with Folium**\n",
      "metadata": {}
    },
    {
      "cell_type": "markdown",
      "source": "Estimated time needed: **40** minutes\n",
      "metadata": {}
    },
    {
      "cell_type": "markdown",
      "source": "The launch success rate may depend on many factors such as payload mass, orbit type, and so on. It may also depend on the location and proximities of a launch site, i.e., the initial position of rocket trajectories. Finding an optimal location for building a launch site certainly involves many factors and hopefully we could discover some of the factors by analyzing the existing launch site locations.\n",
      "metadata": {}
    },
    {
      "cell_type": "markdown",
      "source": "In the previous exploratory data analysis labs, you have visualized the SpaceX launch dataset using `matplotlib` and `seaborn` and discovered some preliminary correlations between the launch site and success rates. In this lab, you will be performing more interactive visual analytics using `Folium`.\n",
      "metadata": {}
    },
    {
      "cell_type": "markdown",
      "source": "## Objectives\n",
      "metadata": {}
    },
    {
      "cell_type": "markdown",
      "source": "This lab contains the following tasks:\n\n*   **TASK 1:** Mark all launch sites on a map\n*   **TASK 2:** Mark the success/failed launches for each site on the map\n*   **TASK 3:** Calculate the distances between a launch site to its proximities\n\nAfter completed the above tasks, you should be able to find some geographical patterns about launch sites.\n",
      "metadata": {}
    },
    {
      "cell_type": "code",
      "source": "import piplite\nawait piplite.install(['folium'])\nawait piplite.install(['pandas'])",
      "metadata": {
        "trusted": true
      },
      "outputs": [],
      "execution_count": 1
    },
    {
      "cell_type": "code",
      "source": "import folium\nimport pandas as pd",
      "metadata": {
        "trusted": true
      },
      "outputs": [],
      "execution_count": 53
    },
    {
      "cell_type": "code",
      "source": "# Import folium MarkerCluster plugin\nfrom folium.plugins import MarkerCluster\n# Import folium MousePosition plugin\nfrom folium.plugins import MousePosition\n# Import folium DivIcon plugin\nfrom folium.features import DivIcon",
      "metadata": {
        "trusted": true
      },
      "outputs": [],
      "execution_count": 3
    },
    {
      "cell_type": "markdown",
      "source": "If you need to refresh your memory about folium, you may download and refer to this previous folium lab:\n",
      "metadata": {}
    },
    {
      "cell_type": "markdown",
      "source": "[Generating Maps with Python](https://cf-courses-data.s3.us.cloud-object-storage.appdomain.cloud/IBMDeveloperSkillsNetwork-DV0101EN-SkillsNetwork/labs/v4/DV0101EN-Exercise-Generating-Maps-in-Python.ipynb)\n",
      "metadata": {}
    },
    {
      "cell_type": "markdown",
      "source": "## Task 1: Mark all launch sites on a map",
      "metadata": {}
    },
    {
      "cell_type": "markdown",
      "source": "First, let's try to add each site's location on a map using site's latitude and longitude coordinates\n",
      "metadata": {}
    },
    {
      "cell_type": "markdown",
      "source": "The following dataset with the name `spacex_launch_geo.csv` is an augmented dataset with latitude and longitude added for each site.\n",
      "metadata": {}
    },
    {
      "cell_type": "code",
      "source": "# Download and read the `spacex_launch_geo.csv`\nfrom js import fetch\nimport io\n\nURL = 'https://cf-courses-data.s3.us.cloud-object-storage.appdomain.cloud/IBM-DS0321EN-SkillsNetwork/datasets/spacex_launch_geo.csv'\nresp = await fetch(URL)\nspacex_csv_file = io.BytesIO((await resp.arrayBuffer()).to_py())\nspacex_df=pd.read_csv(spacex_csv_file)",
      "metadata": {
        "trusted": true
      },
      "outputs": [],
      "execution_count": 5
    },
    {
      "cell_type": "markdown",
      "source": "Now, you can take a look at what are the coordinates for each site.\n",
      "metadata": {}
    },
    {
      "cell_type": "code",
      "source": "# Select relevant sub-columns: `Launch Site`, `Lat(Latitude)`, `Long(Longitude)`, `class`\nspacex_df = spacex_df[['Launch Site', 'Lat', 'Long', 'class']]\nlaunch_sites_df = spacex_df.groupby(['Launch Site'], as_index=False).first()\nlaunch_sites_df = launch_sites_df[['Launch Site', 'Lat', 'Long']]\nlaunch_sites_df",
      "metadata": {
        "trusted": true
      },
      "outputs": [
        {
          "execution_count": 6,
          "output_type": "execute_result",
          "data": {
            "text/plain": "    Launch Site        Lat        Long\n0   CCAFS LC-40  28.562302  -80.577356\n1  CCAFS SLC-40  28.563197  -80.576820\n2    KSC LC-39A  28.573255  -80.646895\n3   VAFB SLC-4E  34.632834 -120.610745",
            "text/html": "<div>\n<style scoped>\n    .dataframe tbody tr th:only-of-type {\n        vertical-align: middle;\n    }\n\n    .dataframe tbody tr th {\n        vertical-align: top;\n    }\n\n    .dataframe thead th {\n        text-align: right;\n    }\n</style>\n<table border=\"1\" class=\"dataframe\">\n  <thead>\n    <tr style=\"text-align: right;\">\n      <th></th>\n      <th>Launch Site</th>\n      <th>Lat</th>\n      <th>Long</th>\n    </tr>\n  </thead>\n  <tbody>\n    <tr>\n      <th>0</th>\n      <td>CCAFS LC-40</td>\n      <td>28.562302</td>\n      <td>-80.577356</td>\n    </tr>\n    <tr>\n      <th>1</th>\n      <td>CCAFS SLC-40</td>\n      <td>28.563197</td>\n      <td>-80.576820</td>\n    </tr>\n    <tr>\n      <th>2</th>\n      <td>KSC LC-39A</td>\n      <td>28.573255</td>\n      <td>-80.646895</td>\n    </tr>\n    <tr>\n      <th>3</th>\n      <td>VAFB SLC-4E</td>\n      <td>34.632834</td>\n      <td>-120.610745</td>\n    </tr>\n  </tbody>\n</table>\n</div>"
          },
          "metadata": {}
        }
      ],
      "execution_count": 6
    },
    {
      "cell_type": "markdown",
      "source": "Above coordinates are just plain numbers that can not give you any intuitive insights about where are those launch sites. If you are very good at geography, you can interpret those numbers directly in your mind. If not, that's fine too. Let's visualize those locations by pinning them on a map.\n",
      "metadata": {}
    },
    {
      "cell_type": "markdown",
      "source": "We first need to create a folium `Map` object, with an initial center location to be NASA Johnson Space Center at Houston, Texas.\n",
      "metadata": {}
    },
    {
      "cell_type": "code",
      "source": "# Start location is NASA Johnson Space Center\nnasa_coordinate = [29.559684888503615, -95.0830971930759]\nsite_map = folium.Map(location=nasa_coordinate, zoom_start=10)",
      "metadata": {
        "trusted": true
      },
      "outputs": [],
      "execution_count": 7
    },
    {
      "cell_type": "markdown",
      "source": "We could use `folium.Circle` to add a highlighted circle area with a text label on a specific coordinate. For example,\n",
      "metadata": {}
    },
    {
      "cell_type": "code",
      "source": "# Create a blue circle at NASA Johnson Space Center's coordinate with a popup label showing its name\ncircle = folium.Circle(nasa_coordinate, radius=1000, color='#d35400', fill=True).add_child(folium.Popup('NASA Johnson Space Center'))\n# Create a blue circle at NASA Johnson Space Center's coordinate with a icon showing its name\nmarker = folium.map.Marker(\n    nasa_coordinate,\n    # Create an icon as a text label\n    icon=DivIcon(\n        icon_size=(20,20),\n        icon_anchor=(0,0),\n        html='<div style=\"font-size: 12; color:#d35400;\"><b>%s</b></div>' % 'NASA JSC',\n        )\n    )\nsite_map.add_child(circle)\nsite_map.add_child(marker)",
      "metadata": {
        "trusted": true
      },
      "outputs": [
        {
          "execution_count": 8,
          "output_type": "execute_result",
          "data": {
            "text/plain": "<folium.folium.Map at 0x14818c0>",
            "text/html": "<div style=\"width:100%;\"><div style=\"position:relative;width:100%;height:0;padding-bottom:60%;\"><span style=\"color:#565656\">Make this Notebook Trusted to load map: File -> Trust Notebook</span><iframe srcdoc=\"&lt;!DOCTYPE html&gt;\n&lt;html&gt;\n&lt;head&gt;\n    \n    &lt;meta http-equiv=&quot;content-type&quot; content=&quot;text/html; charset=UTF-8&quot; /&gt;\n    \n        &lt;script&gt;\n            L_NO_TOUCH = false;\n            L_DISABLE_3D = false;\n        &lt;/script&gt;\n    \n    &lt;style&gt;html, body {width: 100%;height: 100%;margin: 0;padding: 0;}&lt;/style&gt;\n    &lt;style&gt;#map {position:absolute;top:0;bottom:0;right:0;left:0;}&lt;/style&gt;\n    &lt;script src=&quot;https://cdn.jsdelivr.net/npm/leaflet@1.9.3/dist/leaflet.js&quot;&gt;&lt;/script&gt;\n    &lt;script src=&quot;https://code.jquery.com/jquery-3.7.1.min.js&quot;&gt;&lt;/script&gt;\n    &lt;script src=&quot;https://cdn.jsdelivr.net/npm/bootstrap@5.2.2/dist/js/bootstrap.bundle.min.js&quot;&gt;&lt;/script&gt;\n    &lt;script src=&quot;https://cdnjs.cloudflare.com/ajax/libs/Leaflet.awesome-markers/2.0.2/leaflet.awesome-markers.js&quot;&gt;&lt;/script&gt;\n    &lt;link rel=&quot;stylesheet&quot; href=&quot;https://cdn.jsdelivr.net/npm/leaflet@1.9.3/dist/leaflet.css&quot;/&gt;\n    &lt;link rel=&quot;stylesheet&quot; href=&quot;https://cdn.jsdelivr.net/npm/bootstrap@5.2.2/dist/css/bootstrap.min.css&quot;/&gt;\n    &lt;link rel=&quot;stylesheet&quot; href=&quot;https://netdna.bootstrapcdn.com/bootstrap/3.0.0/css/bootstrap-glyphicons.css&quot;/&gt;\n    &lt;link rel=&quot;stylesheet&quot; href=&quot;https://cdn.jsdelivr.net/npm/@fortawesome/fontawesome-free@6.2.0/css/all.min.css&quot;/&gt;\n    &lt;link rel=&quot;stylesheet&quot; href=&quot;https://cdnjs.cloudflare.com/ajax/libs/Leaflet.awesome-markers/2.0.2/leaflet.awesome-markers.css&quot;/&gt;\n    &lt;link rel=&quot;stylesheet&quot; href=&quot;https://cdn.jsdelivr.net/gh/python-visualization/folium/folium/templates/leaflet.awesome.rotate.min.css&quot;/&gt;\n    \n            &lt;meta name=&quot;viewport&quot; content=&quot;width=device-width,\n                initial-scale=1.0, maximum-scale=1.0, user-scalable=no&quot; /&gt;\n            &lt;style&gt;\n                #map_e4e1031d0e3f5824a1618315ecf5f15f {\n                    position: relative;\n                    width: 100.0%;\n                    height: 100.0%;\n                    left: 0.0%;\n                    top: 0.0%;\n                }\n                .leaflet-container { font-size: 1rem; }\n            &lt;/style&gt;\n        \n&lt;/head&gt;\n&lt;body&gt;\n    \n    \n            &lt;div class=&quot;folium-map&quot; id=&quot;map_e4e1031d0e3f5824a1618315ecf5f15f&quot; &gt;&lt;/div&gt;\n        \n&lt;/body&gt;\n&lt;script&gt;\n    \n    \n            var map_e4e1031d0e3f5824a1618315ecf5f15f = L.map(\n                &quot;map_e4e1031d0e3f5824a1618315ecf5f15f&quot;,\n                {\n                    center: [29.559684888503615, -95.0830971930759],\n                    crs: L.CRS.EPSG3857,\n                    ...{\n  &quot;maxBounds&quot;: null,\n  &quot;zoom&quot;: 10,\n  &quot;zoomControl&quot;: true,\n  &quot;preferCanvas&quot;: false,\n}\n\n                }\n            );\n\n            \n\n        \n    \n            var tile_layer_76ece18727417a724ecf3c5c5945af83 = L.tileLayer(\n                &quot;https://tile.openstreetmap.org/{z}/{x}/{y}.png&quot;,\n                {\n  &quot;minZoom&quot;: 0,\n  &quot;maxZoom&quot;: 19,\n  &quot;maxNativeZoom&quot;: 19,\n  &quot;noWrap&quot;: false,\n  &quot;attribution&quot;: &quot;\\u0026copy; \\u003ca href=\\&quot;https://www.openstreetmap.org/copyright\\&quot;\\u003eOpenStreetMap\\u003c/a\\u003e contributors&quot;,\n  &quot;subdomains&quot;: &quot;abc&quot;,\n  &quot;detectRetina&quot;: false,\n  &quot;tms&quot;: false,\n  &quot;opacity&quot;: 1,\n}\n\n            );\n        \n    \n            tile_layer_76ece18727417a724ecf3c5c5945af83.addTo(map_e4e1031d0e3f5824a1618315ecf5f15f);\n        \n    \n            var circle_51d2d7ff3e9424e03934d0ef2d0b7f1a = L.circle(\n                [29.559684888503615, -95.0830971930759],\n                {&quot;bubblingMouseEvents&quot;: true, &quot;color&quot;: &quot;#d35400&quot;, &quot;dashArray&quot;: null, &quot;dashOffset&quot;: null, &quot;fill&quot;: true, &quot;fillColor&quot;: &quot;#d35400&quot;, &quot;fillOpacity&quot;: 0.2, &quot;fillRule&quot;: &quot;evenodd&quot;, &quot;lineCap&quot;: &quot;round&quot;, &quot;lineJoin&quot;: &quot;round&quot;, &quot;opacity&quot;: 1.0, &quot;radius&quot;: 1000, &quot;stroke&quot;: true, &quot;weight&quot;: 3}\n            ).addTo(map_e4e1031d0e3f5824a1618315ecf5f15f);\n        \n    \n        var popup_e4b58b47ef4c4d69227e0286c3b72637 = L.popup({\n  &quot;maxWidth&quot;: &quot;100%&quot;,\n  &quot;autoClose&quot;: null,\n  &quot;closeOnClick&quot;: null,\n});\n\n        \n            \n                var html_a10a6a9b0d67f307adeea99340ef0d0d = $(`&lt;div id=&quot;html_a10a6a9b0d67f307adeea99340ef0d0d&quot; style=&quot;width: 100.0%; height: 100.0%;&quot;&gt;NASA Johnson Space Center&lt;/div&gt;`)[0];\n                popup_e4b58b47ef4c4d69227e0286c3b72637.setContent(html_a10a6a9b0d67f307adeea99340ef0d0d);\n            \n        \n\n        circle_51d2d7ff3e9424e03934d0ef2d0b7f1a.bindPopup(popup_e4b58b47ef4c4d69227e0286c3b72637)\n        ;\n\n        \n    \n    \n            var marker_977223c72297ccef580befa9b45326c7 = L.marker(\n                [29.559684888503615, -95.0830971930759],\n                {\n  &quot;draggable&quot;: null,\n  &quot;autoPan&quot;: null,\n}\n            ).addTo(map_e4e1031d0e3f5824a1618315ecf5f15f);\n        \n    \n            var div_icon_a1e1697b7211a785919f4d02fc1a9177 = L.divIcon({\n  &quot;html&quot;: &quot;\\u003cdiv style=\\&quot;font-size: 12; color:#d35400;\\&quot;\\u003e\\u003cb\\u003eNASA JSC\\u003c/b\\u003e\\u003c/div\\u003e&quot;,\n  &quot;iconSize&quot;: [20, 20],\n  &quot;iconAnchor&quot;: [0, 0],\n  &quot;popupAnchor&quot;: null,\n  &quot;className&quot;: &quot;empty&quot;,\n});\n            marker_977223c72297ccef580befa9b45326c7.setIcon(div_icon_a1e1697b7211a785919f4d02fc1a9177);\n        \n&lt;/script&gt;\n&lt;/html&gt;\" style=\"position:absolute;width:100%;height:100%;left:0;top:0;border:none !important;\" allowfullscreen webkitallowfullscreen mozallowfullscreen></iframe></div></div>"
          },
          "metadata": {}
        }
      ],
      "execution_count": 8
    },
    {
      "cell_type": "markdown",
      "source": "and you should find a small yellow circle near the city of Houston and you can zoom-in to see a larger circle.\n",
      "metadata": {}
    },
    {
      "cell_type": "markdown",
      "source": "Now, let's add a circle for each launch site in data frame `launch_sites`\n",
      "metadata": {}
    },
    {
      "cell_type": "markdown",
      "source": "*TODO:*  Create and add `folium.Circle` and `folium.Marker` for each launch site on the site map\n",
      "metadata": {}
    },
    {
      "cell_type": "markdown",
      "source": "An example of folium.Circle:\n",
      "metadata": {}
    },
    {
      "cell_type": "markdown",
      "source": "`folium.Circle(coordinate, radius=1000, color='#000000', fill=True).add_child(folium.Popup(...))`\n",
      "metadata": {}
    },
    {
      "cell_type": "markdown",
      "source": "An example of folium.Marker:\n",
      "metadata": {}
    },
    {
      "cell_type": "markdown",
      "source": "`folium.map.Marker(coordinate, icon=DivIcon(icon_size=(20,20),icon_anchor=(0,0), html='<div style=\"font-size: 12; color:#d35400;\"><b>%s</b></div>' % 'label', ))`\n",
      "metadata": {}
    },
    {
      "cell_type": "code",
      "source": "# Initial the map\nsite_map = folium.Map(location=nasa_coordinate, zoom_start=5)\n# For each launch site, add a Circle object based on its coordinate (Lat, Long) values. In addition, add Launch site name as a popup label\n\nCCAFS_LC40_coordinate = [28.562302, -80.577356]\nCCAFS_SLC40_coordinate = [28.563197,\t-80.576820]\nKSC_LC39A_coordinate = [28.573255,\t-80.646895]\nVAFB_SLC4E_coordinate = [34.632834, -120.610745]\n\nlaunch_circle0 = folium.Circle(CCAFS_LC40_coordinate, radius=1000, color='#d35400', fill=True).add_child(folium.Popup('Launch Site CCAFS LC-40'))\nlaunch_circle1 = folium.Circle(CCAFS_SLC40_coordinate, radius=1000, color='#d35400', fill=True).add_child(folium.Popup('Launch Site CCAFS SLC-40'))\nlaunch_circle2 = folium.Circle(KSC_LC39A_coordinate, radius=1000, color='#d35400', fill=True).add_child(folium.Popup('Launch Site KSC LC-39A'))\nlaunch_circle3 = folium.Circle(VAFB_SLC4E_coordinate, radius=1000, color='#d35400', fill=True).add_child(folium.Popup('Launch Site VAFB SLC-4E'))\n\nlaunch_marker0 = folium.map.Marker(CCAFS_LC40_coordinate, icon=DivIcon(icon_size=(20,20),icon_anchor=(0,0), html='<div style=\"font-size: 12; color:#d35400;\"><b>%s</b></div>' % 'Launch Site CCAFS LC-40', ))\nlaunch_marker1 = folium.map.Marker(CCAFS_SLC40_coordinate, icon=DivIcon(icon_size=(20,20),icon_anchor=(0,0), html='<div style=\"font-size: 12; color:#d35400;\"><b>%s</b></div>' % 'Launch Site CCAFS SLC-40', ))\nlaunch_marker2 = folium.map.Marker(KSC_LC39A_coordinate, icon=DivIcon(icon_size=(20,20),icon_anchor=(0,0), html='<div style=\"font-size: 12; color:#d35400;\"><b>%s</b></div>' % 'Launch Site KSC LC-39A', ))\nlaunch_marker3 = folium.map.Marker(VAFB_SLC4E_coordinate, icon=DivIcon(icon_size=(20,20),icon_anchor=(0,0), html='<div style=\"font-size: 12; color:#d35400;\"><b>%s</b></div>' % 'Launch Site VAFB SLC-4E', ))\n\nsite_map.add_child(launch_circle0)\nsite_map.add_child(launch_marker0)\nsite_map.add_child(launch_circle1)\nsite_map.add_child(launch_marker1)\nsite_map.add_child(launch_circle2)\nsite_map.add_child(launch_marker2)\nsite_map.add_child(launch_circle3)\nsite_map.add_child(launch_marker3)\n",
      "metadata": {
        "trusted": true
      },
      "outputs": [
        {
          "execution_count": 15,
          "output_type": "execute_result",
          "data": {
            "text/plain": "<folium.folium.Map at 0x6145d58>",
            "text/html": "<div style=\"width:100%;\"><div style=\"position:relative;width:100%;height:0;padding-bottom:60%;\"><span style=\"color:#565656\">Make this Notebook Trusted to load map: File -> Trust Notebook</span><iframe srcdoc=\"&lt;!DOCTYPE html&gt;\n&lt;html&gt;\n&lt;head&gt;\n    \n    &lt;meta http-equiv=&quot;content-type&quot; content=&quot;text/html; charset=UTF-8&quot; /&gt;\n    \n        &lt;script&gt;\n            L_NO_TOUCH = false;\n            L_DISABLE_3D = false;\n        &lt;/script&gt;\n    \n    &lt;style&gt;html, body {width: 100%;height: 100%;margin: 0;padding: 0;}&lt;/style&gt;\n    &lt;style&gt;#map {position:absolute;top:0;bottom:0;right:0;left:0;}&lt;/style&gt;\n    &lt;script src=&quot;https://cdn.jsdelivr.net/npm/leaflet@1.9.3/dist/leaflet.js&quot;&gt;&lt;/script&gt;\n    &lt;script src=&quot;https://code.jquery.com/jquery-3.7.1.min.js&quot;&gt;&lt;/script&gt;\n    &lt;script src=&quot;https://cdn.jsdelivr.net/npm/bootstrap@5.2.2/dist/js/bootstrap.bundle.min.js&quot;&gt;&lt;/script&gt;\n    &lt;script src=&quot;https://cdnjs.cloudflare.com/ajax/libs/Leaflet.awesome-markers/2.0.2/leaflet.awesome-markers.js&quot;&gt;&lt;/script&gt;\n    &lt;link rel=&quot;stylesheet&quot; href=&quot;https://cdn.jsdelivr.net/npm/leaflet@1.9.3/dist/leaflet.css&quot;/&gt;\n    &lt;link rel=&quot;stylesheet&quot; href=&quot;https://cdn.jsdelivr.net/npm/bootstrap@5.2.2/dist/css/bootstrap.min.css&quot;/&gt;\n    &lt;link rel=&quot;stylesheet&quot; href=&quot;https://netdna.bootstrapcdn.com/bootstrap/3.0.0/css/bootstrap-glyphicons.css&quot;/&gt;\n    &lt;link rel=&quot;stylesheet&quot; href=&quot;https://cdn.jsdelivr.net/npm/@fortawesome/fontawesome-free@6.2.0/css/all.min.css&quot;/&gt;\n    &lt;link rel=&quot;stylesheet&quot; href=&quot;https://cdnjs.cloudflare.com/ajax/libs/Leaflet.awesome-markers/2.0.2/leaflet.awesome-markers.css&quot;/&gt;\n    &lt;link rel=&quot;stylesheet&quot; href=&quot;https://cdn.jsdelivr.net/gh/python-visualization/folium/folium/templates/leaflet.awesome.rotate.min.css&quot;/&gt;\n    \n            &lt;meta name=&quot;viewport&quot; content=&quot;width=device-width,\n                initial-scale=1.0, maximum-scale=1.0, user-scalable=no&quot; /&gt;\n            &lt;style&gt;\n                #map_40a649de66e7b96871967540dc890080 {\n                    position: relative;\n                    width: 100.0%;\n                    height: 100.0%;\n                    left: 0.0%;\n                    top: 0.0%;\n                }\n                .leaflet-container { font-size: 1rem; }\n            &lt;/style&gt;\n        \n&lt;/head&gt;\n&lt;body&gt;\n    \n    \n            &lt;div class=&quot;folium-map&quot; id=&quot;map_40a649de66e7b96871967540dc890080&quot; &gt;&lt;/div&gt;\n        \n&lt;/body&gt;\n&lt;script&gt;\n    \n    \n            var map_40a649de66e7b96871967540dc890080 = L.map(\n                &quot;map_40a649de66e7b96871967540dc890080&quot;,\n                {\n                    center: [29.559684888503615, -95.0830971930759],\n                    crs: L.CRS.EPSG3857,\n                    ...{\n  &quot;maxBounds&quot;: null,\n  &quot;zoom&quot;: 5,\n  &quot;zoomControl&quot;: true,\n  &quot;preferCanvas&quot;: false,\n}\n\n                }\n            );\n\n            \n\n        \n    \n            var tile_layer_693fc0d635b7960c91f1838254086bdd = L.tileLayer(\n                &quot;https://tile.openstreetmap.org/{z}/{x}/{y}.png&quot;,\n                {\n  &quot;minZoom&quot;: 0,\n  &quot;maxZoom&quot;: 19,\n  &quot;maxNativeZoom&quot;: 19,\n  &quot;noWrap&quot;: false,\n  &quot;attribution&quot;: &quot;\\u0026copy; \\u003ca href=\\&quot;https://www.openstreetmap.org/copyright\\&quot;\\u003eOpenStreetMap\\u003c/a\\u003e contributors&quot;,\n  &quot;subdomains&quot;: &quot;abc&quot;,\n  &quot;detectRetina&quot;: false,\n  &quot;tms&quot;: false,\n  &quot;opacity&quot;: 1,\n}\n\n            );\n        \n    \n            tile_layer_693fc0d635b7960c91f1838254086bdd.addTo(map_40a649de66e7b96871967540dc890080);\n        \n    \n            var circle_a60c0d986ecc03f9554bc11f0e3e35dd = L.circle(\n                [28.562302, -80.577356],\n                {&quot;bubblingMouseEvents&quot;: true, &quot;color&quot;: &quot;#d35400&quot;, &quot;dashArray&quot;: null, &quot;dashOffset&quot;: null, &quot;fill&quot;: true, &quot;fillColor&quot;: &quot;#d35400&quot;, &quot;fillOpacity&quot;: 0.2, &quot;fillRule&quot;: &quot;evenodd&quot;, &quot;lineCap&quot;: &quot;round&quot;, &quot;lineJoin&quot;: &quot;round&quot;, &quot;opacity&quot;: 1.0, &quot;radius&quot;: 1000, &quot;stroke&quot;: true, &quot;weight&quot;: 3}\n            ).addTo(map_40a649de66e7b96871967540dc890080);\n        \n    \n        var popup_33f558b170a50f05b08650dfb455dc88 = L.popup({\n  &quot;maxWidth&quot;: &quot;100%&quot;,\n  &quot;autoClose&quot;: null,\n  &quot;closeOnClick&quot;: null,\n});\n\n        \n            \n                var html_97b2aa8c1e08f9cfb52f507d2bc0304a = $(`&lt;div id=&quot;html_97b2aa8c1e08f9cfb52f507d2bc0304a&quot; style=&quot;width: 100.0%; height: 100.0%;&quot;&gt;Launch Site CCAFS LC-40&lt;/div&gt;`)[0];\n                popup_33f558b170a50f05b08650dfb455dc88.setContent(html_97b2aa8c1e08f9cfb52f507d2bc0304a);\n            \n        \n\n        circle_a60c0d986ecc03f9554bc11f0e3e35dd.bindPopup(popup_33f558b170a50f05b08650dfb455dc88)\n        ;\n\n        \n    \n    \n            var marker_e82736574d97d866b5cc1302ec284fca = L.marker(\n                [28.562302, -80.577356],\n                {\n  &quot;draggable&quot;: null,\n  &quot;autoPan&quot;: null,\n}\n            ).addTo(map_40a649de66e7b96871967540dc890080);\n        \n    \n            var div_icon_5696d875e895626f8521de08b78a2145 = L.divIcon({\n  &quot;html&quot;: &quot;\\u003cdiv style=\\&quot;font-size: 12; color:#d35400;\\&quot;\\u003e\\u003cb\\u003eLaunch Site CCAFS LC-40\\u003c/b\\u003e\\u003c/div\\u003e&quot;,\n  &quot;iconSize&quot;: [20, 20],\n  &quot;iconAnchor&quot;: [0, 0],\n  &quot;popupAnchor&quot;: null,\n  &quot;className&quot;: &quot;empty&quot;,\n});\n            marker_e82736574d97d866b5cc1302ec284fca.setIcon(div_icon_5696d875e895626f8521de08b78a2145);\n        \n    \n            var circle_679fe35333894af1ff308990bb5e0cd3 = L.circle(\n                [28.563197, -80.57682],\n                {&quot;bubblingMouseEvents&quot;: true, &quot;color&quot;: &quot;#d35400&quot;, &quot;dashArray&quot;: null, &quot;dashOffset&quot;: null, &quot;fill&quot;: true, &quot;fillColor&quot;: &quot;#d35400&quot;, &quot;fillOpacity&quot;: 0.2, &quot;fillRule&quot;: &quot;evenodd&quot;, &quot;lineCap&quot;: &quot;round&quot;, &quot;lineJoin&quot;: &quot;round&quot;, &quot;opacity&quot;: 1.0, &quot;radius&quot;: 1000, &quot;stroke&quot;: true, &quot;weight&quot;: 3}\n            ).addTo(map_40a649de66e7b96871967540dc890080);\n        \n    \n        var popup_6968b93b26ae492f50f90b194cdfecf6 = L.popup({\n  &quot;maxWidth&quot;: &quot;100%&quot;,\n  &quot;autoClose&quot;: null,\n  &quot;closeOnClick&quot;: null,\n});\n\n        \n            \n                var html_e75873df60e5e0b0fe6c8af91666d4a9 = $(`&lt;div id=&quot;html_e75873df60e5e0b0fe6c8af91666d4a9&quot; style=&quot;width: 100.0%; height: 100.0%;&quot;&gt;Launch Site CCAFS SLC-40&lt;/div&gt;`)[0];\n                popup_6968b93b26ae492f50f90b194cdfecf6.setContent(html_e75873df60e5e0b0fe6c8af91666d4a9);\n            \n        \n\n        circle_679fe35333894af1ff308990bb5e0cd3.bindPopup(popup_6968b93b26ae492f50f90b194cdfecf6)\n        ;\n\n        \n    \n    \n            var marker_b2ddedc38ffc0d7a310fc55007717b1f = L.marker(\n                [28.563197, -80.57682],\n                {\n  &quot;draggable&quot;: null,\n  &quot;autoPan&quot;: null,\n}\n            ).addTo(map_40a649de66e7b96871967540dc890080);\n        \n    \n            var div_icon_5fe37b474d57bffb15d60da627555321 = L.divIcon({\n  &quot;html&quot;: &quot;\\u003cdiv style=\\&quot;font-size: 12; color:#d35400;\\&quot;\\u003e\\u003cb\\u003eLaunch Site CCAFS SLC-40\\u003c/b\\u003e\\u003c/div\\u003e&quot;,\n  &quot;iconSize&quot;: [20, 20],\n  &quot;iconAnchor&quot;: [0, 0],\n  &quot;popupAnchor&quot;: null,\n  &quot;className&quot;: &quot;empty&quot;,\n});\n            marker_b2ddedc38ffc0d7a310fc55007717b1f.setIcon(div_icon_5fe37b474d57bffb15d60da627555321);\n        \n    \n            var circle_744a32f7c1ef0e978bdbc10b7fff02af = L.circle(\n                [28.573255, -80.646895],\n                {&quot;bubblingMouseEvents&quot;: true, &quot;color&quot;: &quot;#d35400&quot;, &quot;dashArray&quot;: null, &quot;dashOffset&quot;: null, &quot;fill&quot;: true, &quot;fillColor&quot;: &quot;#d35400&quot;, &quot;fillOpacity&quot;: 0.2, &quot;fillRule&quot;: &quot;evenodd&quot;, &quot;lineCap&quot;: &quot;round&quot;, &quot;lineJoin&quot;: &quot;round&quot;, &quot;opacity&quot;: 1.0, &quot;radius&quot;: 1000, &quot;stroke&quot;: true, &quot;weight&quot;: 3}\n            ).addTo(map_40a649de66e7b96871967540dc890080);\n        \n    \n        var popup_7ab3e7389da85669d1748b34f2aab45a = L.popup({\n  &quot;maxWidth&quot;: &quot;100%&quot;,\n  &quot;autoClose&quot;: null,\n  &quot;closeOnClick&quot;: null,\n});\n\n        \n            \n                var html_51368c0c2d683fea8c385caa15d76ec2 = $(`&lt;div id=&quot;html_51368c0c2d683fea8c385caa15d76ec2&quot; style=&quot;width: 100.0%; height: 100.0%;&quot;&gt;Launch Site KSC LC-39A&lt;/div&gt;`)[0];\n                popup_7ab3e7389da85669d1748b34f2aab45a.setContent(html_51368c0c2d683fea8c385caa15d76ec2);\n            \n        \n\n        circle_744a32f7c1ef0e978bdbc10b7fff02af.bindPopup(popup_7ab3e7389da85669d1748b34f2aab45a)\n        ;\n\n        \n    \n    \n            var marker_13135699cfead0c6a6833aa299665140 = L.marker(\n                [28.573255, -80.646895],\n                {\n  &quot;draggable&quot;: null,\n  &quot;autoPan&quot;: null,\n}\n            ).addTo(map_40a649de66e7b96871967540dc890080);\n        \n    \n            var div_icon_504327724bd33680241402efc8fdd10f = L.divIcon({\n  &quot;html&quot;: &quot;\\u003cdiv style=\\&quot;font-size: 12; color:#d35400;\\&quot;\\u003e\\u003cb\\u003eLaunch Site KSC LC-39A\\u003c/b\\u003e\\u003c/div\\u003e&quot;,\n  &quot;iconSize&quot;: [20, 20],\n  &quot;iconAnchor&quot;: [0, 0],\n  &quot;popupAnchor&quot;: null,\n  &quot;className&quot;: &quot;empty&quot;,\n});\n            marker_13135699cfead0c6a6833aa299665140.setIcon(div_icon_504327724bd33680241402efc8fdd10f);\n        \n    \n            var circle_38e4d4a5289893fdd48cdab5ae29c1db = L.circle(\n                [34.632834, -120.610745],\n                {&quot;bubblingMouseEvents&quot;: true, &quot;color&quot;: &quot;#d35400&quot;, &quot;dashArray&quot;: null, &quot;dashOffset&quot;: null, &quot;fill&quot;: true, &quot;fillColor&quot;: &quot;#d35400&quot;, &quot;fillOpacity&quot;: 0.2, &quot;fillRule&quot;: &quot;evenodd&quot;, &quot;lineCap&quot;: &quot;round&quot;, &quot;lineJoin&quot;: &quot;round&quot;, &quot;opacity&quot;: 1.0, &quot;radius&quot;: 1000, &quot;stroke&quot;: true, &quot;weight&quot;: 3}\n            ).addTo(map_40a649de66e7b96871967540dc890080);\n        \n    \n        var popup_162bfbc4e65031d084011b256767a136 = L.popup({\n  &quot;maxWidth&quot;: &quot;100%&quot;,\n  &quot;autoClose&quot;: null,\n  &quot;closeOnClick&quot;: null,\n});\n\n        \n            \n                var html_ad8da3655424fc4c85d6c6b34a3ed6fe = $(`&lt;div id=&quot;html_ad8da3655424fc4c85d6c6b34a3ed6fe&quot; style=&quot;width: 100.0%; height: 100.0%;&quot;&gt;Launch Site VAFB SLC-4E&lt;/div&gt;`)[0];\n                popup_162bfbc4e65031d084011b256767a136.setContent(html_ad8da3655424fc4c85d6c6b34a3ed6fe);\n            \n        \n\n        circle_38e4d4a5289893fdd48cdab5ae29c1db.bindPopup(popup_162bfbc4e65031d084011b256767a136)\n        ;\n\n        \n    \n    \n            var marker_7e7e626e10debf30951e461209b99286 = L.marker(\n                [34.632834, -120.610745],\n                {\n  &quot;draggable&quot;: null,\n  &quot;autoPan&quot;: null,\n}\n            ).addTo(map_40a649de66e7b96871967540dc890080);\n        \n    \n            var div_icon_b646500f503378f84dedc2f76d37d403 = L.divIcon({\n  &quot;html&quot;: &quot;\\u003cdiv style=\\&quot;font-size: 12; color:#d35400;\\&quot;\\u003e\\u003cb\\u003eLaunch Site VAFB SLC-4E\\u003c/b\\u003e\\u003c/div\\u003e&quot;,\n  &quot;iconSize&quot;: [20, 20],\n  &quot;iconAnchor&quot;: [0, 0],\n  &quot;popupAnchor&quot;: null,\n  &quot;className&quot;: &quot;empty&quot;,\n});\n            marker_7e7e626e10debf30951e461209b99286.setIcon(div_icon_b646500f503378f84dedc2f76d37d403);\n        \n&lt;/script&gt;\n&lt;/html&gt;\" style=\"position:absolute;width:100%;height:100%;left:0;top:0;border:none !important;\" allowfullscreen webkitallowfullscreen mozallowfullscreen></iframe></div></div>"
          },
          "metadata": {}
        }
      ],
      "execution_count": 15
    },
    {
      "cell_type": "markdown",
      "source": "The generated map with marked launch sites should look similar to the following:\n",
      "metadata": {}
    },
    {
      "cell_type": "markdown",
      "source": "<center>\n    <img src=\"https://cf-courses-data.s3.us.cloud-object-storage.appdomain.cloud/IBM-DS0321EN-SkillsNetwork/labs/module_3/images/launch_site_markers.png\">\n</center>\n",
      "metadata": {}
    },
    {
      "cell_type": "markdown",
      "source": "Now, you can explore the map by zoom-in/out the marked areas\n, and try to answer the following questions:\n\n*   Are all launch sites in proximity to the Equator line?\n*   Are all launch sites in very close proximity to the coast?\n\nAlso please try to explain your findings.\n",
      "metadata": {}
    },
    {
      "cell_type": "markdown",
      "source": "# Task 2: Mark the success/failed launches for each site on the map\n",
      "metadata": {}
    },
    {
      "cell_type": "markdown",
      "source": "Next, let's try to enhance the map by adding the launch outcomes for each site, and see which sites have high success rates.\nRecall that data frame spacex_df has detailed launch records, and the `class` column indicates if this launch was successful or not\n",
      "metadata": {}
    },
    {
      "cell_type": "code",
      "source": "spacex_df.tail(10)",
      "metadata": {
        "trusted": true
      },
      "outputs": [
        {
          "execution_count": 16,
          "output_type": "execute_result",
          "data": {
            "text/plain": "     Launch Site        Lat       Long  class\n46    KSC LC-39A  28.573255 -80.646895      1\n47    KSC LC-39A  28.573255 -80.646895      1\n48    KSC LC-39A  28.573255 -80.646895      1\n49  CCAFS SLC-40  28.563197 -80.576820      1\n50  CCAFS SLC-40  28.563197 -80.576820      1\n51  CCAFS SLC-40  28.563197 -80.576820      0\n52  CCAFS SLC-40  28.563197 -80.576820      0\n53  CCAFS SLC-40  28.563197 -80.576820      0\n54  CCAFS SLC-40  28.563197 -80.576820      1\n55  CCAFS SLC-40  28.563197 -80.576820      0",
            "text/html": "<div>\n<style scoped>\n    .dataframe tbody tr th:only-of-type {\n        vertical-align: middle;\n    }\n\n    .dataframe tbody tr th {\n        vertical-align: top;\n    }\n\n    .dataframe thead th {\n        text-align: right;\n    }\n</style>\n<table border=\"1\" class=\"dataframe\">\n  <thead>\n    <tr style=\"text-align: right;\">\n      <th></th>\n      <th>Launch Site</th>\n      <th>Lat</th>\n      <th>Long</th>\n      <th>class</th>\n    </tr>\n  </thead>\n  <tbody>\n    <tr>\n      <th>46</th>\n      <td>KSC LC-39A</td>\n      <td>28.573255</td>\n      <td>-80.646895</td>\n      <td>1</td>\n    </tr>\n    <tr>\n      <th>47</th>\n      <td>KSC LC-39A</td>\n      <td>28.573255</td>\n      <td>-80.646895</td>\n      <td>1</td>\n    </tr>\n    <tr>\n      <th>48</th>\n      <td>KSC LC-39A</td>\n      <td>28.573255</td>\n      <td>-80.646895</td>\n      <td>1</td>\n    </tr>\n    <tr>\n      <th>49</th>\n      <td>CCAFS SLC-40</td>\n      <td>28.563197</td>\n      <td>-80.576820</td>\n      <td>1</td>\n    </tr>\n    <tr>\n      <th>50</th>\n      <td>CCAFS SLC-40</td>\n      <td>28.563197</td>\n      <td>-80.576820</td>\n      <td>1</td>\n    </tr>\n    <tr>\n      <th>51</th>\n      <td>CCAFS SLC-40</td>\n      <td>28.563197</td>\n      <td>-80.576820</td>\n      <td>0</td>\n    </tr>\n    <tr>\n      <th>52</th>\n      <td>CCAFS SLC-40</td>\n      <td>28.563197</td>\n      <td>-80.576820</td>\n      <td>0</td>\n    </tr>\n    <tr>\n      <th>53</th>\n      <td>CCAFS SLC-40</td>\n      <td>28.563197</td>\n      <td>-80.576820</td>\n      <td>0</td>\n    </tr>\n    <tr>\n      <th>54</th>\n      <td>CCAFS SLC-40</td>\n      <td>28.563197</td>\n      <td>-80.576820</td>\n      <td>1</td>\n    </tr>\n    <tr>\n      <th>55</th>\n      <td>CCAFS SLC-40</td>\n      <td>28.563197</td>\n      <td>-80.576820</td>\n      <td>0</td>\n    </tr>\n  </tbody>\n</table>\n</div>"
          },
          "metadata": {}
        }
      ],
      "execution_count": 16
    },
    {
      "cell_type": "markdown",
      "source": "Next, let's create markers for all launch records.\nIf a launch was successful `(class=1)`, then we use a green marker and if a launch was failed, we use a red marker `(class=0)`\n",
      "metadata": {}
    },
    {
      "cell_type": "markdown",
      "source": "Note that a launch only happens in one of the four launch sites, which means many launch records will have the exact same coordinate. Marker clusters can be a good way to simplify a map containing many markers having the same coordinate.\n",
      "metadata": {}
    },
    {
      "cell_type": "markdown",
      "source": "Let's first create a `MarkerCluster` object\n",
      "metadata": {}
    },
    {
      "cell_type": "code",
      "source": "marker_cluster = MarkerCluster()",
      "metadata": {
        "trusted": true
      },
      "outputs": [],
      "execution_count": 19
    },
    {
      "cell_type": "markdown",
      "source": "*TODO:* Create a new column in `spacex_df` dataframe called `marker_color` to store the marker colors based on the `class` value\n",
      "metadata": {}
    },
    {
      "cell_type": "code",
      "source": "# Apply a function to check the value of `class` column\n# If class=1, marker_color value will be green\n# If class=0, marker_color value will be red\ndef color_label (launch_outcome):\n   if launch_outcome == 1:\n      return 'Green' \n   else: \n       return 'Red'\n       \nspacex_df['marker_colour'] = spacex_df['class'].apply(color_label)\nspacex_df.tail(10)",
      "metadata": {
        "trusted": true
      },
      "outputs": [
        {
          "execution_count": 25,
          "output_type": "execute_result",
          "data": {
            "text/plain": "     Launch Site        Lat       Long  class marker_colour\n46    KSC LC-39A  28.573255 -80.646895      1         Green\n47    KSC LC-39A  28.573255 -80.646895      1         Green\n48    KSC LC-39A  28.573255 -80.646895      1         Green\n49  CCAFS SLC-40  28.563197 -80.576820      1         Green\n50  CCAFS SLC-40  28.563197 -80.576820      1         Green\n51  CCAFS SLC-40  28.563197 -80.576820      0           Red\n52  CCAFS SLC-40  28.563197 -80.576820      0           Red\n53  CCAFS SLC-40  28.563197 -80.576820      0           Red\n54  CCAFS SLC-40  28.563197 -80.576820      1         Green\n55  CCAFS SLC-40  28.563197 -80.576820      0           Red",
            "text/html": "<div>\n<style scoped>\n    .dataframe tbody tr th:only-of-type {\n        vertical-align: middle;\n    }\n\n    .dataframe tbody tr th {\n        vertical-align: top;\n    }\n\n    .dataframe thead th {\n        text-align: right;\n    }\n</style>\n<table border=\"1\" class=\"dataframe\">\n  <thead>\n    <tr style=\"text-align: right;\">\n      <th></th>\n      <th>Launch Site</th>\n      <th>Lat</th>\n      <th>Long</th>\n      <th>class</th>\n      <th>marker_colour</th>\n    </tr>\n  </thead>\n  <tbody>\n    <tr>\n      <th>46</th>\n      <td>KSC LC-39A</td>\n      <td>28.573255</td>\n      <td>-80.646895</td>\n      <td>1</td>\n      <td>Green</td>\n    </tr>\n    <tr>\n      <th>47</th>\n      <td>KSC LC-39A</td>\n      <td>28.573255</td>\n      <td>-80.646895</td>\n      <td>1</td>\n      <td>Green</td>\n    </tr>\n    <tr>\n      <th>48</th>\n      <td>KSC LC-39A</td>\n      <td>28.573255</td>\n      <td>-80.646895</td>\n      <td>1</td>\n      <td>Green</td>\n    </tr>\n    <tr>\n      <th>49</th>\n      <td>CCAFS SLC-40</td>\n      <td>28.563197</td>\n      <td>-80.576820</td>\n      <td>1</td>\n      <td>Green</td>\n    </tr>\n    <tr>\n      <th>50</th>\n      <td>CCAFS SLC-40</td>\n      <td>28.563197</td>\n      <td>-80.576820</td>\n      <td>1</td>\n      <td>Green</td>\n    </tr>\n    <tr>\n      <th>51</th>\n      <td>CCAFS SLC-40</td>\n      <td>28.563197</td>\n      <td>-80.576820</td>\n      <td>0</td>\n      <td>Red</td>\n    </tr>\n    <tr>\n      <th>52</th>\n      <td>CCAFS SLC-40</td>\n      <td>28.563197</td>\n      <td>-80.576820</td>\n      <td>0</td>\n      <td>Red</td>\n    </tr>\n    <tr>\n      <th>53</th>\n      <td>CCAFS SLC-40</td>\n      <td>28.563197</td>\n      <td>-80.576820</td>\n      <td>0</td>\n      <td>Red</td>\n    </tr>\n    <tr>\n      <th>54</th>\n      <td>CCAFS SLC-40</td>\n      <td>28.563197</td>\n      <td>-80.576820</td>\n      <td>1</td>\n      <td>Green</td>\n    </tr>\n    <tr>\n      <th>55</th>\n      <td>CCAFS SLC-40</td>\n      <td>28.563197</td>\n      <td>-80.576820</td>\n      <td>0</td>\n      <td>Red</td>\n    </tr>\n  </tbody>\n</table>\n</div>"
          },
          "metadata": {}
        }
      ],
      "execution_count": 27
    },
    {
      "cell_type": "markdown",
      "source": "*TODO:* For each launch result in `spacex_df` data frame, add a `folium.Marker` to `marker_cluster`\n",
      "metadata": {}
    },
    {
      "cell_type": "code",
      "source": "",
      "metadata": {
        "trusted": true
      },
      "outputs": [],
      "execution_count": null
    },
    {
      "cell_type": "markdown",
      "source": "Your updated map may look like the following screenshots:\n",
      "metadata": {}
    },
    {
      "cell_type": "markdown",
      "source": "<center>\n    <img src=\"https://cf-courses-data.s3.us.cloud-object-storage.appdomain.cloud/IBM-DS0321EN-SkillsNetwork/labs/module_3/images/launch_site_marker_cluster.png\">\n</center>\n",
      "metadata": {}
    },
    {
      "cell_type": "markdown",
      "source": "<center>\n    <img src=\"https://cf-courses-data.s3.us.cloud-object-storage.appdomain.cloud/IBM-DS0321EN-SkillsNetwork/labs/module_3/images/launch_site_marker_cluster_zoomed.png\">\n</center>\n",
      "metadata": {}
    },
    {
      "cell_type": "markdown",
      "source": "From the color-labeled markers in marker clusters, you should be able to easily identify which launch sites have relatively high success rates.\n",
      "metadata": {}
    },
    {
      "cell_type": "markdown",
      "source": "# TASK 3: Calculate the distances between a launch site to its proximities\n",
      "metadata": {}
    },
    {
      "cell_type": "markdown",
      "source": "Next, we need to explore and analyze the proximities of launch sites.\n",
      "metadata": {}
    },
    {
      "cell_type": "markdown",
      "source": "Let's first add a `MousePosition` on the map to get coordinate for a mouse over a point on the map. As such, while you are exploring the map, you can easily find the coordinates of any points of interests (such as railway)\n",
      "metadata": {}
    },
    {
      "cell_type": "code",
      "source": "# Add Mouse Position to get the coordinate (Lat, Long) for a mouse over on the map\nformatter = \"function(num) {return L.Util.formatNum(num, 5);};\"\nmouse_position = MousePosition(\n    position='topright',\n    separator=' Long: ',\n    empty_string='NaN',\n    lng_first=False,\n    num_digits=20,\n    prefix='Lat:',\n    lat_formatter=formatter,\n    lng_formatter=formatter,\n)\n\nsite_map.add_child(mouse_position)\nsite_map",
      "metadata": {
        "trusted": true
      },
      "outputs": [
        {
          "execution_count": 32,
          "output_type": "execute_result",
          "data": {
            "text/plain": "<folium.folium.Map at 0x6145d58>",
            "text/html": "<div style=\"width:100%;\"><div style=\"position:relative;width:100%;height:0;padding-bottom:60%;\"><span style=\"color:#565656\">Make this Notebook Trusted to load map: File -> Trust Notebook</span><iframe srcdoc=\"&lt;!DOCTYPE html&gt;\n&lt;html&gt;\n&lt;head&gt;\n    \n    &lt;meta http-equiv=&quot;content-type&quot; content=&quot;text/html; charset=UTF-8&quot; /&gt;\n    \n        &lt;script&gt;\n            L_NO_TOUCH = false;\n            L_DISABLE_3D = false;\n        &lt;/script&gt;\n    \n    &lt;style&gt;html, body {width: 100%;height: 100%;margin: 0;padding: 0;}&lt;/style&gt;\n    &lt;style&gt;#map {position:absolute;top:0;bottom:0;right:0;left:0;}&lt;/style&gt;\n    &lt;script src=&quot;https://cdn.jsdelivr.net/npm/leaflet@1.9.3/dist/leaflet.js&quot;&gt;&lt;/script&gt;\n    &lt;script src=&quot;https://code.jquery.com/jquery-3.7.1.min.js&quot;&gt;&lt;/script&gt;\n    &lt;script src=&quot;https://cdn.jsdelivr.net/npm/bootstrap@5.2.2/dist/js/bootstrap.bundle.min.js&quot;&gt;&lt;/script&gt;\n    &lt;script src=&quot;https://cdnjs.cloudflare.com/ajax/libs/Leaflet.awesome-markers/2.0.2/leaflet.awesome-markers.js&quot;&gt;&lt;/script&gt;\n    &lt;link rel=&quot;stylesheet&quot; href=&quot;https://cdn.jsdelivr.net/npm/leaflet@1.9.3/dist/leaflet.css&quot;/&gt;\n    &lt;link rel=&quot;stylesheet&quot; href=&quot;https://cdn.jsdelivr.net/npm/bootstrap@5.2.2/dist/css/bootstrap.min.css&quot;/&gt;\n    &lt;link rel=&quot;stylesheet&quot; href=&quot;https://netdna.bootstrapcdn.com/bootstrap/3.0.0/css/bootstrap-glyphicons.css&quot;/&gt;\n    &lt;link rel=&quot;stylesheet&quot; href=&quot;https://cdn.jsdelivr.net/npm/@fortawesome/fontawesome-free@6.2.0/css/all.min.css&quot;/&gt;\n    &lt;link rel=&quot;stylesheet&quot; href=&quot;https://cdnjs.cloudflare.com/ajax/libs/Leaflet.awesome-markers/2.0.2/leaflet.awesome-markers.css&quot;/&gt;\n    &lt;link rel=&quot;stylesheet&quot; href=&quot;https://cdn.jsdelivr.net/gh/python-visualization/folium/folium/templates/leaflet.awesome.rotate.min.css&quot;/&gt;\n    \n            &lt;meta name=&quot;viewport&quot; content=&quot;width=device-width,\n                initial-scale=1.0, maximum-scale=1.0, user-scalable=no&quot; /&gt;\n            &lt;style&gt;\n                #map_40a649de66e7b96871967540dc890080 {\n                    position: relative;\n                    width: 100.0%;\n                    height: 100.0%;\n                    left: 0.0%;\n                    top: 0.0%;\n                }\n                .leaflet-container { font-size: 1rem; }\n            &lt;/style&gt;\n        \n    &lt;script src=&quot;https://cdnjs.cloudflare.com/ajax/libs/leaflet.markercluster/1.1.0/leaflet.markercluster.js&quot;&gt;&lt;/script&gt;\n    &lt;link rel=&quot;stylesheet&quot; href=&quot;https://cdnjs.cloudflare.com/ajax/libs/leaflet.markercluster/1.1.0/MarkerCluster.css&quot;/&gt;\n    &lt;link rel=&quot;stylesheet&quot; href=&quot;https://cdnjs.cloudflare.com/ajax/libs/leaflet.markercluster/1.1.0/MarkerCluster.Default.css&quot;/&gt;\n    &lt;script src=&quot;https://cdn.jsdelivr.net/gh/ardhi/Leaflet.MousePosition/src/L.Control.MousePosition.min.js&quot;&gt;&lt;/script&gt;\n    &lt;link rel=&quot;stylesheet&quot; href=&quot;https://cdn.jsdelivr.net/gh/ardhi/Leaflet.MousePosition/src/L.Control.MousePosition.min.css&quot;/&gt;\n&lt;/head&gt;\n&lt;body&gt;\n    \n    \n            &lt;div class=&quot;folium-map&quot; id=&quot;map_40a649de66e7b96871967540dc890080&quot; &gt;&lt;/div&gt;\n        \n&lt;/body&gt;\n&lt;script&gt;\n    \n    \n            var map_40a649de66e7b96871967540dc890080 = L.map(\n                &quot;map_40a649de66e7b96871967540dc890080&quot;,\n                {\n                    center: [29.559684888503615, -95.0830971930759],\n                    crs: L.CRS.EPSG3857,\n                    ...{\n  &quot;maxBounds&quot;: null,\n  &quot;zoom&quot;: 5,\n  &quot;zoomControl&quot;: true,\n  &quot;preferCanvas&quot;: false,\n}\n\n                }\n            );\n\n            \n\n        \n    \n            var tile_layer_693fc0d635b7960c91f1838254086bdd = L.tileLayer(\n                &quot;https://tile.openstreetmap.org/{z}/{x}/{y}.png&quot;,\n                {\n  &quot;minZoom&quot;: 0,\n  &quot;maxZoom&quot;: 19,\n  &quot;maxNativeZoom&quot;: 19,\n  &quot;noWrap&quot;: false,\n  &quot;attribution&quot;: &quot;\\u0026copy; \\u003ca href=\\&quot;https://www.openstreetmap.org/copyright\\&quot;\\u003eOpenStreetMap\\u003c/a\\u003e contributors&quot;,\n  &quot;subdomains&quot;: &quot;abc&quot;,\n  &quot;detectRetina&quot;: false,\n  &quot;tms&quot;: false,\n  &quot;opacity&quot;: 1,\n}\n\n            );\n        \n    \n            tile_layer_693fc0d635b7960c91f1838254086bdd.addTo(map_40a649de66e7b96871967540dc890080);\n        \n    \n            var circle_a60c0d986ecc03f9554bc11f0e3e35dd = L.circle(\n                [28.562302, -80.577356],\n                {&quot;bubblingMouseEvents&quot;: true, &quot;color&quot;: &quot;#d35400&quot;, &quot;dashArray&quot;: null, &quot;dashOffset&quot;: null, &quot;fill&quot;: true, &quot;fillColor&quot;: &quot;#d35400&quot;, &quot;fillOpacity&quot;: 0.2, &quot;fillRule&quot;: &quot;evenodd&quot;, &quot;lineCap&quot;: &quot;round&quot;, &quot;lineJoin&quot;: &quot;round&quot;, &quot;opacity&quot;: 1.0, &quot;radius&quot;: 1000, &quot;stroke&quot;: true, &quot;weight&quot;: 3}\n            ).addTo(map_40a649de66e7b96871967540dc890080);\n        \n    \n        var popup_33f558b170a50f05b08650dfb455dc88 = L.popup({\n  &quot;maxWidth&quot;: &quot;100%&quot;,\n  &quot;autoClose&quot;: null,\n  &quot;closeOnClick&quot;: null,\n});\n\n        \n            \n                var html_97b2aa8c1e08f9cfb52f507d2bc0304a = $(`&lt;div id=&quot;html_97b2aa8c1e08f9cfb52f507d2bc0304a&quot; style=&quot;width: 100.0%; height: 100.0%;&quot;&gt;Launch Site CCAFS LC-40&lt;/div&gt;`)[0];\n                popup_33f558b170a50f05b08650dfb455dc88.setContent(html_97b2aa8c1e08f9cfb52f507d2bc0304a);\n            \n        \n\n        circle_a60c0d986ecc03f9554bc11f0e3e35dd.bindPopup(popup_33f558b170a50f05b08650dfb455dc88)\n        ;\n\n        \n    \n    \n            var marker_e82736574d97d866b5cc1302ec284fca = L.marker(\n                [28.562302, -80.577356],\n                {\n  &quot;draggable&quot;: null,\n  &quot;autoPan&quot;: null,\n}\n            ).addTo(map_40a649de66e7b96871967540dc890080);\n        \n    \n            var div_icon_5696d875e895626f8521de08b78a2145 = L.divIcon({\n  &quot;html&quot;: &quot;\\u003cdiv style=\\&quot;font-size: 12; color:#d35400;\\&quot;\\u003e\\u003cb\\u003eLaunch Site CCAFS LC-40\\u003c/b\\u003e\\u003c/div\\u003e&quot;,\n  &quot;iconSize&quot;: [20, 20],\n  &quot;iconAnchor&quot;: [0, 0],\n  &quot;popupAnchor&quot;: null,\n  &quot;className&quot;: &quot;empty&quot;,\n});\n            marker_e82736574d97d866b5cc1302ec284fca.setIcon(div_icon_5696d875e895626f8521de08b78a2145);\n        \n    \n            var circle_679fe35333894af1ff308990bb5e0cd3 = L.circle(\n                [28.563197, -80.57682],\n                {&quot;bubblingMouseEvents&quot;: true, &quot;color&quot;: &quot;#d35400&quot;, &quot;dashArray&quot;: null, &quot;dashOffset&quot;: null, &quot;fill&quot;: true, &quot;fillColor&quot;: &quot;#d35400&quot;, &quot;fillOpacity&quot;: 0.2, &quot;fillRule&quot;: &quot;evenodd&quot;, &quot;lineCap&quot;: &quot;round&quot;, &quot;lineJoin&quot;: &quot;round&quot;, &quot;opacity&quot;: 1.0, &quot;radius&quot;: 1000, &quot;stroke&quot;: true, &quot;weight&quot;: 3}\n            ).addTo(map_40a649de66e7b96871967540dc890080);\n        \n    \n        var popup_6968b93b26ae492f50f90b194cdfecf6 = L.popup({\n  &quot;maxWidth&quot;: &quot;100%&quot;,\n  &quot;autoClose&quot;: null,\n  &quot;closeOnClick&quot;: null,\n});\n\n        \n            \n                var html_e75873df60e5e0b0fe6c8af91666d4a9 = $(`&lt;div id=&quot;html_e75873df60e5e0b0fe6c8af91666d4a9&quot; style=&quot;width: 100.0%; height: 100.0%;&quot;&gt;Launch Site CCAFS SLC-40&lt;/div&gt;`)[0];\n                popup_6968b93b26ae492f50f90b194cdfecf6.setContent(html_e75873df60e5e0b0fe6c8af91666d4a9);\n            \n        \n\n        circle_679fe35333894af1ff308990bb5e0cd3.bindPopup(popup_6968b93b26ae492f50f90b194cdfecf6)\n        ;\n\n        \n    \n    \n            var marker_b2ddedc38ffc0d7a310fc55007717b1f = L.marker(\n                [28.563197, -80.57682],\n                {\n  &quot;draggable&quot;: null,\n  &quot;autoPan&quot;: null,\n}\n            ).addTo(map_40a649de66e7b96871967540dc890080);\n        \n    \n            var div_icon_5fe37b474d57bffb15d60da627555321 = L.divIcon({\n  &quot;html&quot;: &quot;\\u003cdiv style=\\&quot;font-size: 12; color:#d35400;\\&quot;\\u003e\\u003cb\\u003eLaunch Site CCAFS SLC-40\\u003c/b\\u003e\\u003c/div\\u003e&quot;,\n  &quot;iconSize&quot;: [20, 20],\n  &quot;iconAnchor&quot;: [0, 0],\n  &quot;popupAnchor&quot;: null,\n  &quot;className&quot;: &quot;empty&quot;,\n});\n            marker_b2ddedc38ffc0d7a310fc55007717b1f.setIcon(div_icon_5fe37b474d57bffb15d60da627555321);\n        \n    \n            var circle_744a32f7c1ef0e978bdbc10b7fff02af = L.circle(\n                [28.573255, -80.646895],\n                {&quot;bubblingMouseEvents&quot;: true, &quot;color&quot;: &quot;#d35400&quot;, &quot;dashArray&quot;: null, &quot;dashOffset&quot;: null, &quot;fill&quot;: true, &quot;fillColor&quot;: &quot;#d35400&quot;, &quot;fillOpacity&quot;: 0.2, &quot;fillRule&quot;: &quot;evenodd&quot;, &quot;lineCap&quot;: &quot;round&quot;, &quot;lineJoin&quot;: &quot;round&quot;, &quot;opacity&quot;: 1.0, &quot;radius&quot;: 1000, &quot;stroke&quot;: true, &quot;weight&quot;: 3}\n            ).addTo(map_40a649de66e7b96871967540dc890080);\n        \n    \n        var popup_7ab3e7389da85669d1748b34f2aab45a = L.popup({\n  &quot;maxWidth&quot;: &quot;100%&quot;,\n  &quot;autoClose&quot;: null,\n  &quot;closeOnClick&quot;: null,\n});\n\n        \n            \n                var html_51368c0c2d683fea8c385caa15d76ec2 = $(`&lt;div id=&quot;html_51368c0c2d683fea8c385caa15d76ec2&quot; style=&quot;width: 100.0%; height: 100.0%;&quot;&gt;Launch Site KSC LC-39A&lt;/div&gt;`)[0];\n                popup_7ab3e7389da85669d1748b34f2aab45a.setContent(html_51368c0c2d683fea8c385caa15d76ec2);\n            \n        \n\n        circle_744a32f7c1ef0e978bdbc10b7fff02af.bindPopup(popup_7ab3e7389da85669d1748b34f2aab45a)\n        ;\n\n        \n    \n    \n            var marker_13135699cfead0c6a6833aa299665140 = L.marker(\n                [28.573255, -80.646895],\n                {\n  &quot;draggable&quot;: null,\n  &quot;autoPan&quot;: null,\n}\n            ).addTo(map_40a649de66e7b96871967540dc890080);\n        \n    \n            var div_icon_504327724bd33680241402efc8fdd10f = L.divIcon({\n  &quot;html&quot;: &quot;\\u003cdiv style=\\&quot;font-size: 12; color:#d35400;\\&quot;\\u003e\\u003cb\\u003eLaunch Site KSC LC-39A\\u003c/b\\u003e\\u003c/div\\u003e&quot;,\n  &quot;iconSize&quot;: [20, 20],\n  &quot;iconAnchor&quot;: [0, 0],\n  &quot;popupAnchor&quot;: null,\n  &quot;className&quot;: &quot;empty&quot;,\n});\n            marker_13135699cfead0c6a6833aa299665140.setIcon(div_icon_504327724bd33680241402efc8fdd10f);\n        \n    \n            var circle_38e4d4a5289893fdd48cdab5ae29c1db = L.circle(\n                [34.632834, -120.610745],\n                {&quot;bubblingMouseEvents&quot;: true, &quot;color&quot;: &quot;#d35400&quot;, &quot;dashArray&quot;: null, &quot;dashOffset&quot;: null, &quot;fill&quot;: true, &quot;fillColor&quot;: &quot;#d35400&quot;, &quot;fillOpacity&quot;: 0.2, &quot;fillRule&quot;: &quot;evenodd&quot;, &quot;lineCap&quot;: &quot;round&quot;, &quot;lineJoin&quot;: &quot;round&quot;, &quot;opacity&quot;: 1.0, &quot;radius&quot;: 1000, &quot;stroke&quot;: true, &quot;weight&quot;: 3}\n            ).addTo(map_40a649de66e7b96871967540dc890080);\n        \n    \n        var popup_162bfbc4e65031d084011b256767a136 = L.popup({\n  &quot;maxWidth&quot;: &quot;100%&quot;,\n  &quot;autoClose&quot;: null,\n  &quot;closeOnClick&quot;: null,\n});\n\n        \n            \n                var html_ad8da3655424fc4c85d6c6b34a3ed6fe = $(`&lt;div id=&quot;html_ad8da3655424fc4c85d6c6b34a3ed6fe&quot; style=&quot;width: 100.0%; height: 100.0%;&quot;&gt;Launch Site VAFB SLC-4E&lt;/div&gt;`)[0];\n                popup_162bfbc4e65031d084011b256767a136.setContent(html_ad8da3655424fc4c85d6c6b34a3ed6fe);\n            \n        \n\n        circle_38e4d4a5289893fdd48cdab5ae29c1db.bindPopup(popup_162bfbc4e65031d084011b256767a136)\n        ;\n\n        \n    \n    \n            var marker_7e7e626e10debf30951e461209b99286 = L.marker(\n                [34.632834, -120.610745],\n                {\n  &quot;draggable&quot;: null,\n  &quot;autoPan&quot;: null,\n}\n            ).addTo(map_40a649de66e7b96871967540dc890080);\n        \n    \n            var div_icon_b646500f503378f84dedc2f76d37d403 = L.divIcon({\n  &quot;html&quot;: &quot;\\u003cdiv style=\\&quot;font-size: 12; color:#d35400;\\&quot;\\u003e\\u003cb\\u003eLaunch Site VAFB SLC-4E\\u003c/b\\u003e\\u003c/div\\u003e&quot;,\n  &quot;iconSize&quot;: [20, 20],\n  &quot;iconAnchor&quot;: [0, 0],\n  &quot;popupAnchor&quot;: null,\n  &quot;className&quot;: &quot;empty&quot;,\n});\n            marker_7e7e626e10debf30951e461209b99286.setIcon(div_icon_b646500f503378f84dedc2f76d37d403);\n        \n    \n            tile_layer_693fc0d635b7960c91f1838254086bdd.addTo(map_40a649de66e7b96871967540dc890080);\n        \n    \n            var marker_cluster_15802befb36d62e40ddd3f33d6599c10 = L.markerClusterGroup(\n                {\n}\n            );\n        \n    \n            var marker_977223c72297ccef580befa9b45326c7 = L.marker(\n                [29.559684888503615, -95.0830971930759],\n                {\n  &quot;draggable&quot;: null,\n  &quot;autoPan&quot;: null,\n}\n            ).addTo(marker_cluster_15802befb36d62e40ddd3f33d6599c10);\n        \n    \n            var div_icon_a1e1697b7211a785919f4d02fc1a9177 = L.divIcon({\n  &quot;html&quot;: &quot;\\u003cdiv style=\\&quot;font-size: 12; color:#d35400;\\&quot;\\u003e\\u003cb\\u003eNASA JSC\\u003c/b\\u003e\\u003c/div\\u003e&quot;,\n  &quot;iconSize&quot;: [20, 20],\n  &quot;iconAnchor&quot;: [0, 0],\n  &quot;popupAnchor&quot;: null,\n  &quot;className&quot;: &quot;empty&quot;,\n});\n            marker_977223c72297ccef580befa9b45326c7.setIcon(div_icon_a1e1697b7211a785919f4d02fc1a9177);\n        \n    \n            marker_cluster_15802befb36d62e40ddd3f33d6599c10.addTo(map_40a649de66e7b96871967540dc890080);\n        \n    \n            tile_layer_693fc0d635b7960c91f1838254086bdd.addTo(map_40a649de66e7b96871967540dc890080);\n        \n    \n            marker_cluster_15802befb36d62e40ddd3f33d6599c10.addTo(map_40a649de66e7b96871967540dc890080);\n        \n    \n            var mouse_position_187db398800e539f2fa597d55fce02a1 = new L.Control.MousePosition(\n                {\n  &quot;position&quot;: &quot;topright&quot;,\n  &quot;separator&quot;: &quot; Long: &quot;,\n  &quot;emptyString&quot;: &quot;NaN&quot;,\n  &quot;lngFirst&quot;: false,\n  &quot;numDigits&quot;: 20,\n  &quot;prefix&quot;: &quot;Lat:&quot;,\n}\n            );\n            mouse_position_187db398800e539f2fa597d55fce02a1.options[&quot;latFormatter&quot;] =\n                function(num) {return L.Util.formatNum(num, 5);};;\n            mouse_position_187db398800e539f2fa597d55fce02a1.options[&quot;lngFormatter&quot;] =\n                function(num) {return L.Util.formatNum(num, 5);};;\n            map_40a649de66e7b96871967540dc890080.addControl(mouse_position_187db398800e539f2fa597d55fce02a1);\n        \n&lt;/script&gt;\n&lt;/html&gt;\" style=\"position:absolute;width:100%;height:100%;left:0;top:0;border:none !important;\" allowfullscreen webkitallowfullscreen mozallowfullscreen></iframe></div></div>"
          },
          "metadata": {}
        }
      ],
      "execution_count": 34
    },
    {
      "cell_type": "markdown",
      "source": "Now zoom in to a launch site and explore its proximity to see if you can easily find any railway, highway, coastline, etc. Move your mouse to these points and mark down their coordinates (shown on the top-left) in order to the distance to the launch site.\n",
      "metadata": {}
    },
    {
      "cell_type": "markdown",
      "source": "Now zoom in to a launch site and explore its proximity to see if you can easily find any railway, highway, coastline, etc. Move your mouse to these points and mark down their coordinates (shown on the top-left) in order to the distance to the launch site.\n",
      "metadata": {}
    },
    {
      "cell_type": "code",
      "source": "from math import sin, cos, sqrt, atan2, radians\n\ndef calculate_distance(lat1, lon1, lat2, lon2):\n    # approximate radius of earth in km\n    R = 6373.0\n\n    lat1 = radians(lat1)\n    lon1 = radians(lon1)\n    lat2 = radians(lat2)\n    lon2 = radians(lon2)\n\n    dlon = lon2 - lon1\n    dlat = lat2 - lat1\n\n    a = sin(dlat / 2)**2 + cos(lat1) * cos(lat2) * sin(dlon / 2)**2\n    c = 2 * atan2(sqrt(a), sqrt(1 - a))\n\n    distance = R * c\n    return distance",
      "metadata": {
        "trusted": true
      },
      "outputs": [],
      "execution_count": 35
    },
    {
      "cell_type": "markdown",
      "source": "*TODO:* Mark down a point on the closest coastline using MousePosition and calculate the distance between the coastline point and the launch site.\n",
      "metadata": {}
    },
    {
      "cell_type": "code",
      "source": "# find coordinate of the closet coastline\n# e.g.,: Lat: 28.56367  Lon: -80.57163\nlaunch_site_lat = 28.562302\nlaunch_site_lon = -80.577356\ncoastline_lat = 28.56367\ncoastline_lon = -80.57163\n\ndistance_coastline = calculate_distance(launch_site_lat, launch_site_lon, coastline_lat, coastline_lon)\nprint(distance_coastline,' km')\n",
      "metadata": {
        "trusted": true
      },
      "outputs": [
        {
          "name": "stdout",
          "text": "0.5797120571581803  km\n",
          "output_type": "stream"
        }
      ],
      "execution_count": 40
    },
    {
      "cell_type": "code",
      "source": "# Create and add a folium.Marker on your selected closest coastline point on the map\n# Display the distance between coastline point and launch site using the icon property \n# for example\n\ncoordinate = [28.56367,-80.57163]\nicon_ = folium.DivIcon(html=str(round(distance_coastline, 2)) + \" km\")\nmarker = folium.map.Marker(\n    coordinate,\n    icon=icon_\n)\nmarker.add_to(site_map)\nsite_map",
      "metadata": {
        "trusted": true
      },
      "outputs": [
        {
          "execution_count": 47,
          "output_type": "execute_result",
          "data": {
            "text/plain": "<folium.folium.Map at 0x6145d58>",
            "text/html": "<div style=\"width:100%;\"><div style=\"position:relative;width:100%;height:0;padding-bottom:60%;\"><span style=\"color:#565656\">Make this Notebook Trusted to load map: File -> Trust Notebook</span><iframe srcdoc=\"&lt;!DOCTYPE html&gt;\n&lt;html&gt;\n&lt;head&gt;\n    \n    &lt;meta http-equiv=&quot;content-type&quot; content=&quot;text/html; charset=UTF-8&quot; /&gt;\n    \n        &lt;script&gt;\n            L_NO_TOUCH = false;\n            L_DISABLE_3D = false;\n        &lt;/script&gt;\n    \n    &lt;style&gt;html, body {width: 100%;height: 100%;margin: 0;padding: 0;}&lt;/style&gt;\n    &lt;style&gt;#map {position:absolute;top:0;bottom:0;right:0;left:0;}&lt;/style&gt;\n    &lt;script src=&quot;https://cdn.jsdelivr.net/npm/leaflet@1.9.3/dist/leaflet.js&quot;&gt;&lt;/script&gt;\n    &lt;script src=&quot;https://code.jquery.com/jquery-3.7.1.min.js&quot;&gt;&lt;/script&gt;\n    &lt;script src=&quot;https://cdn.jsdelivr.net/npm/bootstrap@5.2.2/dist/js/bootstrap.bundle.min.js&quot;&gt;&lt;/script&gt;\n    &lt;script src=&quot;https://cdnjs.cloudflare.com/ajax/libs/Leaflet.awesome-markers/2.0.2/leaflet.awesome-markers.js&quot;&gt;&lt;/script&gt;\n    &lt;link rel=&quot;stylesheet&quot; href=&quot;https://cdn.jsdelivr.net/npm/leaflet@1.9.3/dist/leaflet.css&quot;/&gt;\n    &lt;link rel=&quot;stylesheet&quot; href=&quot;https://cdn.jsdelivr.net/npm/bootstrap@5.2.2/dist/css/bootstrap.min.css&quot;/&gt;\n    &lt;link rel=&quot;stylesheet&quot; href=&quot;https://netdna.bootstrapcdn.com/bootstrap/3.0.0/css/bootstrap-glyphicons.css&quot;/&gt;\n    &lt;link rel=&quot;stylesheet&quot; href=&quot;https://cdn.jsdelivr.net/npm/@fortawesome/fontawesome-free@6.2.0/css/all.min.css&quot;/&gt;\n    &lt;link rel=&quot;stylesheet&quot; href=&quot;https://cdnjs.cloudflare.com/ajax/libs/Leaflet.awesome-markers/2.0.2/leaflet.awesome-markers.css&quot;/&gt;\n    &lt;link rel=&quot;stylesheet&quot; href=&quot;https://cdn.jsdelivr.net/gh/python-visualization/folium/folium/templates/leaflet.awesome.rotate.min.css&quot;/&gt;\n    \n            &lt;meta name=&quot;viewport&quot; content=&quot;width=device-width,\n                initial-scale=1.0, maximum-scale=1.0, user-scalable=no&quot; /&gt;\n            &lt;style&gt;\n                #map_40a649de66e7b96871967540dc890080 {\n                    position: relative;\n                    width: 100.0%;\n                    height: 100.0%;\n                    left: 0.0%;\n                    top: 0.0%;\n                }\n                .leaflet-container { font-size: 1rem; }\n            &lt;/style&gt;\n        \n    &lt;script src=&quot;https://cdnjs.cloudflare.com/ajax/libs/leaflet.markercluster/1.1.0/leaflet.markercluster.js&quot;&gt;&lt;/script&gt;\n    &lt;link rel=&quot;stylesheet&quot; href=&quot;https://cdnjs.cloudflare.com/ajax/libs/leaflet.markercluster/1.1.0/MarkerCluster.css&quot;/&gt;\n    &lt;link rel=&quot;stylesheet&quot; href=&quot;https://cdnjs.cloudflare.com/ajax/libs/leaflet.markercluster/1.1.0/MarkerCluster.Default.css&quot;/&gt;\n    &lt;script src=&quot;https://cdn.jsdelivr.net/gh/ardhi/Leaflet.MousePosition/src/L.Control.MousePosition.min.js&quot;&gt;&lt;/script&gt;\n    &lt;link rel=&quot;stylesheet&quot; href=&quot;https://cdn.jsdelivr.net/gh/ardhi/Leaflet.MousePosition/src/L.Control.MousePosition.min.css&quot;/&gt;\n&lt;/head&gt;\n&lt;body&gt;\n    \n    \n            &lt;div class=&quot;folium-map&quot; id=&quot;map_40a649de66e7b96871967540dc890080&quot; &gt;&lt;/div&gt;\n        \n&lt;/body&gt;\n&lt;script&gt;\n    \n    \n            var map_40a649de66e7b96871967540dc890080 = L.map(\n                &quot;map_40a649de66e7b96871967540dc890080&quot;,\n                {\n                    center: [29.559684888503615, -95.0830971930759],\n                    crs: L.CRS.EPSG3857,\n                    ...{\n  &quot;maxBounds&quot;: null,\n  &quot;zoom&quot;: 5,\n  &quot;zoomControl&quot;: true,\n  &quot;preferCanvas&quot;: false,\n}\n\n                }\n            );\n\n            \n\n        \n    \n            var tile_layer_693fc0d635b7960c91f1838254086bdd = L.tileLayer(\n                &quot;https://tile.openstreetmap.org/{z}/{x}/{y}.png&quot;,\n                {\n  &quot;minZoom&quot;: 0,\n  &quot;maxZoom&quot;: 19,\n  &quot;maxNativeZoom&quot;: 19,\n  &quot;noWrap&quot;: false,\n  &quot;attribution&quot;: &quot;\\u0026copy; \\u003ca href=\\&quot;https://www.openstreetmap.org/copyright\\&quot;\\u003eOpenStreetMap\\u003c/a\\u003e contributors&quot;,\n  &quot;subdomains&quot;: &quot;abc&quot;,\n  &quot;detectRetina&quot;: false,\n  &quot;tms&quot;: false,\n  &quot;opacity&quot;: 1,\n}\n\n            );\n        \n    \n            tile_layer_693fc0d635b7960c91f1838254086bdd.addTo(map_40a649de66e7b96871967540dc890080);\n        \n    \n            var circle_a60c0d986ecc03f9554bc11f0e3e35dd = L.circle(\n                [28.562302, -80.577356],\n                {&quot;bubblingMouseEvents&quot;: true, &quot;color&quot;: &quot;#d35400&quot;, &quot;dashArray&quot;: null, &quot;dashOffset&quot;: null, &quot;fill&quot;: true, &quot;fillColor&quot;: &quot;#d35400&quot;, &quot;fillOpacity&quot;: 0.2, &quot;fillRule&quot;: &quot;evenodd&quot;, &quot;lineCap&quot;: &quot;round&quot;, &quot;lineJoin&quot;: &quot;round&quot;, &quot;opacity&quot;: 1.0, &quot;radius&quot;: 1000, &quot;stroke&quot;: true, &quot;weight&quot;: 3}\n            ).addTo(map_40a649de66e7b96871967540dc890080);\n        \n    \n        var popup_33f558b170a50f05b08650dfb455dc88 = L.popup({\n  &quot;maxWidth&quot;: &quot;100%&quot;,\n  &quot;autoClose&quot;: null,\n  &quot;closeOnClick&quot;: null,\n});\n\n        \n            \n                var html_97b2aa8c1e08f9cfb52f507d2bc0304a = $(`&lt;div id=&quot;html_97b2aa8c1e08f9cfb52f507d2bc0304a&quot; style=&quot;width: 100.0%; height: 100.0%;&quot;&gt;Launch Site CCAFS LC-40&lt;/div&gt;`)[0];\n                popup_33f558b170a50f05b08650dfb455dc88.setContent(html_97b2aa8c1e08f9cfb52f507d2bc0304a);\n            \n        \n\n        circle_a60c0d986ecc03f9554bc11f0e3e35dd.bindPopup(popup_33f558b170a50f05b08650dfb455dc88)\n        ;\n\n        \n    \n    \n            var marker_e82736574d97d866b5cc1302ec284fca = L.marker(\n                [28.562302, -80.577356],\n                {\n  &quot;draggable&quot;: null,\n  &quot;autoPan&quot;: null,\n}\n            ).addTo(map_40a649de66e7b96871967540dc890080);\n        \n    \n            var div_icon_5696d875e895626f8521de08b78a2145 = L.divIcon({\n  &quot;html&quot;: &quot;\\u003cdiv style=\\&quot;font-size: 12; color:#d35400;\\&quot;\\u003e\\u003cb\\u003eLaunch Site CCAFS LC-40\\u003c/b\\u003e\\u003c/div\\u003e&quot;,\n  &quot;iconSize&quot;: [20, 20],\n  &quot;iconAnchor&quot;: [0, 0],\n  &quot;popupAnchor&quot;: null,\n  &quot;className&quot;: &quot;empty&quot;,\n});\n            marker_e82736574d97d866b5cc1302ec284fca.setIcon(div_icon_5696d875e895626f8521de08b78a2145);\n        \n    \n            var circle_679fe35333894af1ff308990bb5e0cd3 = L.circle(\n                [28.563197, -80.57682],\n                {&quot;bubblingMouseEvents&quot;: true, &quot;color&quot;: &quot;#d35400&quot;, &quot;dashArray&quot;: null, &quot;dashOffset&quot;: null, &quot;fill&quot;: true, &quot;fillColor&quot;: &quot;#d35400&quot;, &quot;fillOpacity&quot;: 0.2, &quot;fillRule&quot;: &quot;evenodd&quot;, &quot;lineCap&quot;: &quot;round&quot;, &quot;lineJoin&quot;: &quot;round&quot;, &quot;opacity&quot;: 1.0, &quot;radius&quot;: 1000, &quot;stroke&quot;: true, &quot;weight&quot;: 3}\n            ).addTo(map_40a649de66e7b96871967540dc890080);\n        \n    \n        var popup_6968b93b26ae492f50f90b194cdfecf6 = L.popup({\n  &quot;maxWidth&quot;: &quot;100%&quot;,\n  &quot;autoClose&quot;: null,\n  &quot;closeOnClick&quot;: null,\n});\n\n        \n            \n                var html_e75873df60e5e0b0fe6c8af91666d4a9 = $(`&lt;div id=&quot;html_e75873df60e5e0b0fe6c8af91666d4a9&quot; style=&quot;width: 100.0%; height: 100.0%;&quot;&gt;Launch Site CCAFS SLC-40&lt;/div&gt;`)[0];\n                popup_6968b93b26ae492f50f90b194cdfecf6.setContent(html_e75873df60e5e0b0fe6c8af91666d4a9);\n            \n        \n\n        circle_679fe35333894af1ff308990bb5e0cd3.bindPopup(popup_6968b93b26ae492f50f90b194cdfecf6)\n        ;\n\n        \n    \n    \n            var marker_b2ddedc38ffc0d7a310fc55007717b1f = L.marker(\n                [28.563197, -80.57682],\n                {\n  &quot;draggable&quot;: null,\n  &quot;autoPan&quot;: null,\n}\n            ).addTo(map_40a649de66e7b96871967540dc890080);\n        \n    \n            var div_icon_5fe37b474d57bffb15d60da627555321 = L.divIcon({\n  &quot;html&quot;: &quot;\\u003cdiv style=\\&quot;font-size: 12; color:#d35400;\\&quot;\\u003e\\u003cb\\u003eLaunch Site CCAFS SLC-40\\u003c/b\\u003e\\u003c/div\\u003e&quot;,\n  &quot;iconSize&quot;: [20, 20],\n  &quot;iconAnchor&quot;: [0, 0],\n  &quot;popupAnchor&quot;: null,\n  &quot;className&quot;: &quot;empty&quot;,\n});\n            marker_b2ddedc38ffc0d7a310fc55007717b1f.setIcon(div_icon_5fe37b474d57bffb15d60da627555321);\n        \n    \n            var circle_744a32f7c1ef0e978bdbc10b7fff02af = L.circle(\n                [28.573255, -80.646895],\n                {&quot;bubblingMouseEvents&quot;: true, &quot;color&quot;: &quot;#d35400&quot;, &quot;dashArray&quot;: null, &quot;dashOffset&quot;: null, &quot;fill&quot;: true, &quot;fillColor&quot;: &quot;#d35400&quot;, &quot;fillOpacity&quot;: 0.2, &quot;fillRule&quot;: &quot;evenodd&quot;, &quot;lineCap&quot;: &quot;round&quot;, &quot;lineJoin&quot;: &quot;round&quot;, &quot;opacity&quot;: 1.0, &quot;radius&quot;: 1000, &quot;stroke&quot;: true, &quot;weight&quot;: 3}\n            ).addTo(map_40a649de66e7b96871967540dc890080);\n        \n    \n        var popup_7ab3e7389da85669d1748b34f2aab45a = L.popup({\n  &quot;maxWidth&quot;: &quot;100%&quot;,\n  &quot;autoClose&quot;: null,\n  &quot;closeOnClick&quot;: null,\n});\n\n        \n            \n                var html_51368c0c2d683fea8c385caa15d76ec2 = $(`&lt;div id=&quot;html_51368c0c2d683fea8c385caa15d76ec2&quot; style=&quot;width: 100.0%; height: 100.0%;&quot;&gt;Launch Site KSC LC-39A&lt;/div&gt;`)[0];\n                popup_7ab3e7389da85669d1748b34f2aab45a.setContent(html_51368c0c2d683fea8c385caa15d76ec2);\n            \n        \n\n        circle_744a32f7c1ef0e978bdbc10b7fff02af.bindPopup(popup_7ab3e7389da85669d1748b34f2aab45a)\n        ;\n\n        \n    \n    \n            var marker_13135699cfead0c6a6833aa299665140 = L.marker(\n                [28.573255, -80.646895],\n                {\n  &quot;draggable&quot;: null,\n  &quot;autoPan&quot;: null,\n}\n            ).addTo(map_40a649de66e7b96871967540dc890080);\n        \n    \n            var div_icon_504327724bd33680241402efc8fdd10f = L.divIcon({\n  &quot;html&quot;: &quot;\\u003cdiv style=\\&quot;font-size: 12; color:#d35400;\\&quot;\\u003e\\u003cb\\u003eLaunch Site KSC LC-39A\\u003c/b\\u003e\\u003c/div\\u003e&quot;,\n  &quot;iconSize&quot;: [20, 20],\n  &quot;iconAnchor&quot;: [0, 0],\n  &quot;popupAnchor&quot;: null,\n  &quot;className&quot;: &quot;empty&quot;,\n});\n            marker_13135699cfead0c6a6833aa299665140.setIcon(div_icon_504327724bd33680241402efc8fdd10f);\n        \n    \n            var circle_38e4d4a5289893fdd48cdab5ae29c1db = L.circle(\n                [34.632834, -120.610745],\n                {&quot;bubblingMouseEvents&quot;: true, &quot;color&quot;: &quot;#d35400&quot;, &quot;dashArray&quot;: null, &quot;dashOffset&quot;: null, &quot;fill&quot;: true, &quot;fillColor&quot;: &quot;#d35400&quot;, &quot;fillOpacity&quot;: 0.2, &quot;fillRule&quot;: &quot;evenodd&quot;, &quot;lineCap&quot;: &quot;round&quot;, &quot;lineJoin&quot;: &quot;round&quot;, &quot;opacity&quot;: 1.0, &quot;radius&quot;: 1000, &quot;stroke&quot;: true, &quot;weight&quot;: 3}\n            ).addTo(map_40a649de66e7b96871967540dc890080);\n        \n    \n        var popup_162bfbc4e65031d084011b256767a136 = L.popup({\n  &quot;maxWidth&quot;: &quot;100%&quot;,\n  &quot;autoClose&quot;: null,\n  &quot;closeOnClick&quot;: null,\n});\n\n        \n            \n                var html_ad8da3655424fc4c85d6c6b34a3ed6fe = $(`&lt;div id=&quot;html_ad8da3655424fc4c85d6c6b34a3ed6fe&quot; style=&quot;width: 100.0%; height: 100.0%;&quot;&gt;Launch Site VAFB SLC-4E&lt;/div&gt;`)[0];\n                popup_162bfbc4e65031d084011b256767a136.setContent(html_ad8da3655424fc4c85d6c6b34a3ed6fe);\n            \n        \n\n        circle_38e4d4a5289893fdd48cdab5ae29c1db.bindPopup(popup_162bfbc4e65031d084011b256767a136)\n        ;\n\n        \n    \n    \n            var marker_7e7e626e10debf30951e461209b99286 = L.marker(\n                [34.632834, -120.610745],\n                {\n  &quot;draggable&quot;: null,\n  &quot;autoPan&quot;: null,\n}\n            ).addTo(map_40a649de66e7b96871967540dc890080);\n        \n    \n            var div_icon_b646500f503378f84dedc2f76d37d403 = L.divIcon({\n  &quot;html&quot;: &quot;\\u003cdiv style=\\&quot;font-size: 12; color:#d35400;\\&quot;\\u003e\\u003cb\\u003eLaunch Site VAFB SLC-4E\\u003c/b\\u003e\\u003c/div\\u003e&quot;,\n  &quot;iconSize&quot;: [20, 20],\n  &quot;iconAnchor&quot;: [0, 0],\n  &quot;popupAnchor&quot;: null,\n  &quot;className&quot;: &quot;empty&quot;,\n});\n            marker_7e7e626e10debf30951e461209b99286.setIcon(div_icon_b646500f503378f84dedc2f76d37d403);\n        \n    \n            tile_layer_693fc0d635b7960c91f1838254086bdd.addTo(map_40a649de66e7b96871967540dc890080);\n        \n    \n            var marker_cluster_15802befb36d62e40ddd3f33d6599c10 = L.markerClusterGroup(\n                {\n}\n            );\n        \n    \n            var marker_977223c72297ccef580befa9b45326c7 = L.marker(\n                [29.559684888503615, -95.0830971930759],\n                {\n  &quot;draggable&quot;: null,\n  &quot;autoPan&quot;: null,\n}\n            ).addTo(marker_cluster_15802befb36d62e40ddd3f33d6599c10);\n        \n    \n            var div_icon_a1e1697b7211a785919f4d02fc1a9177 = L.divIcon({\n  &quot;html&quot;: &quot;\\u003cdiv style=\\&quot;font-size: 12; color:#d35400;\\&quot;\\u003e\\u003cb\\u003eNASA JSC\\u003c/b\\u003e\\u003c/div\\u003e&quot;,\n  &quot;iconSize&quot;: [20, 20],\n  &quot;iconAnchor&quot;: [0, 0],\n  &quot;popupAnchor&quot;: null,\n  &quot;className&quot;: &quot;empty&quot;,\n});\n            marker_977223c72297ccef580befa9b45326c7.setIcon(div_icon_a1e1697b7211a785919f4d02fc1a9177);\n        \n    \n            marker_cluster_15802befb36d62e40ddd3f33d6599c10.addTo(map_40a649de66e7b96871967540dc890080);\n        \n    \n            tile_layer_693fc0d635b7960c91f1838254086bdd.addTo(map_40a649de66e7b96871967540dc890080);\n        \n    \n            marker_cluster_15802befb36d62e40ddd3f33d6599c10.addTo(map_40a649de66e7b96871967540dc890080);\n        \n    \n            var mouse_position_187db398800e539f2fa597d55fce02a1 = new L.Control.MousePosition(\n                {\n  &quot;position&quot;: &quot;topright&quot;,\n  &quot;separator&quot;: &quot; Long: &quot;,\n  &quot;emptyString&quot;: &quot;NaN&quot;,\n  &quot;lngFirst&quot;: false,\n  &quot;numDigits&quot;: 20,\n  &quot;prefix&quot;: &quot;Lat:&quot;,\n}\n            );\n            mouse_position_187db398800e539f2fa597d55fce02a1.options[&quot;latFormatter&quot;] =\n                function(num) {return L.Util.formatNum(num, 5);};;\n            mouse_position_187db398800e539f2fa597d55fce02a1.options[&quot;lngFormatter&quot;] =\n                function(num) {return L.Util.formatNum(num, 5);};;\n            map_40a649de66e7b96871967540dc890080.addControl(mouse_position_187db398800e539f2fa597d55fce02a1);\n        \n    \n            tile_layer_693fc0d635b7960c91f1838254086bdd.addTo(map_40a649de66e7b96871967540dc890080);\n        \n    \n            marker_cluster_15802befb36d62e40ddd3f33d6599c10.addTo(map_40a649de66e7b96871967540dc890080);\n        \n    \n            var marker_864f9381c7d9b20da668d0f86d583581 = L.marker(\n                [34.63494, -120.62429],\n                {\n  &quot;draggable&quot;: null,\n  &quot;autoPan&quot;: null,\n}\n            ).addTo(map_40a649de66e7b96871967540dc890080);\n        \n    \n            var div_icon_5456b2558e22fb70c14dbb59a17b81e4 = L.divIcon({\n  &quot;html&quot;: &quot;0.58 km&quot;,\n  &quot;iconSize&quot;: null,\n  &quot;iconAnchor&quot;: null,\n  &quot;popupAnchor&quot;: null,\n  &quot;className&quot;: &quot;empty&quot;,\n});\n            marker_864f9381c7d9b20da668d0f86d583581.setIcon(div_icon_5456b2558e22fb70c14dbb59a17b81e4);\n        \n    \n            tile_layer_693fc0d635b7960c91f1838254086bdd.addTo(map_40a649de66e7b96871967540dc890080);\n        \n    \n            marker_cluster_15802befb36d62e40ddd3f33d6599c10.addTo(map_40a649de66e7b96871967540dc890080);\n        \n    \n            var marker_18345ec3b68c83d3a7380108729d2c6b = L.marker(\n                [28.56367, -80.57163],\n                {\n  &quot;draggable&quot;: null,\n  &quot;autoPan&quot;: null,\n}\n            ).addTo(map_40a649de66e7b96871967540dc890080);\n        \n    \n            var div_icon_8c9ea13330e0a4269d0743fc191a3e6f = L.divIcon({\n  &quot;html&quot;: &quot;0.58 km&quot;,\n  &quot;iconSize&quot;: null,\n  &quot;iconAnchor&quot;: null,\n  &quot;popupAnchor&quot;: null,\n  &quot;className&quot;: &quot;empty&quot;,\n});\n            marker_18345ec3b68c83d3a7380108729d2c6b.setIcon(div_icon_8c9ea13330e0a4269d0743fc191a3e6f);\n        \n&lt;/script&gt;\n&lt;/html&gt;\" style=\"position:absolute;width:100%;height:100%;left:0;top:0;border:none !important;\" allowfullscreen webkitallowfullscreen mozallowfullscreen></iframe></div></div>"
          },
          "metadata": {}
        }
      ],
      "execution_count": 50
    },
    {
      "cell_type": "markdown",
      "source": "*TODO:* Draw a `PolyLine` between a launch site to the selected coastline point\n",
      "metadata": {}
    },
    {
      "cell_type": "code",
      "source": "# Create a `folium.PolyLine` object using the coastline coordinates and launch site coordinate\n# lines=folium.PolyLine(locations=coordinates, weight=1)\n\ncoastline = [28.56367,-80.57163]\nlaunch = [28.562302, -80.577356]\nlines = folium.PolyLine([coastline, launch])\nsite_map.add_child(lines)",
      "metadata": {
        "trusted": true
      },
      "outputs": [
        {
          "execution_count": 49,
          "output_type": "execute_result",
          "data": {
            "text/plain": "<folium.folium.Map at 0x6145d58>",
            "text/html": "<div style=\"width:100%;\"><div style=\"position:relative;width:100%;height:0;padding-bottom:60%;\"><span style=\"color:#565656\">Make this Notebook Trusted to load map: File -> Trust Notebook</span><iframe srcdoc=\"&lt;!DOCTYPE html&gt;\n&lt;html&gt;\n&lt;head&gt;\n    \n    &lt;meta http-equiv=&quot;content-type&quot; content=&quot;text/html; charset=UTF-8&quot; /&gt;\n    \n        &lt;script&gt;\n            L_NO_TOUCH = false;\n            L_DISABLE_3D = false;\n        &lt;/script&gt;\n    \n    &lt;style&gt;html, body {width: 100%;height: 100%;margin: 0;padding: 0;}&lt;/style&gt;\n    &lt;style&gt;#map {position:absolute;top:0;bottom:0;right:0;left:0;}&lt;/style&gt;\n    &lt;script src=&quot;https://cdn.jsdelivr.net/npm/leaflet@1.9.3/dist/leaflet.js&quot;&gt;&lt;/script&gt;\n    &lt;script src=&quot;https://code.jquery.com/jquery-3.7.1.min.js&quot;&gt;&lt;/script&gt;\n    &lt;script src=&quot;https://cdn.jsdelivr.net/npm/bootstrap@5.2.2/dist/js/bootstrap.bundle.min.js&quot;&gt;&lt;/script&gt;\n    &lt;script src=&quot;https://cdnjs.cloudflare.com/ajax/libs/Leaflet.awesome-markers/2.0.2/leaflet.awesome-markers.js&quot;&gt;&lt;/script&gt;\n    &lt;link rel=&quot;stylesheet&quot; href=&quot;https://cdn.jsdelivr.net/npm/leaflet@1.9.3/dist/leaflet.css&quot;/&gt;\n    &lt;link rel=&quot;stylesheet&quot; href=&quot;https://cdn.jsdelivr.net/npm/bootstrap@5.2.2/dist/css/bootstrap.min.css&quot;/&gt;\n    &lt;link rel=&quot;stylesheet&quot; href=&quot;https://netdna.bootstrapcdn.com/bootstrap/3.0.0/css/bootstrap-glyphicons.css&quot;/&gt;\n    &lt;link rel=&quot;stylesheet&quot; href=&quot;https://cdn.jsdelivr.net/npm/@fortawesome/fontawesome-free@6.2.0/css/all.min.css&quot;/&gt;\n    &lt;link rel=&quot;stylesheet&quot; href=&quot;https://cdnjs.cloudflare.com/ajax/libs/Leaflet.awesome-markers/2.0.2/leaflet.awesome-markers.css&quot;/&gt;\n    &lt;link rel=&quot;stylesheet&quot; href=&quot;https://cdn.jsdelivr.net/gh/python-visualization/folium/folium/templates/leaflet.awesome.rotate.min.css&quot;/&gt;\n    \n            &lt;meta name=&quot;viewport&quot; content=&quot;width=device-width,\n                initial-scale=1.0, maximum-scale=1.0, user-scalable=no&quot; /&gt;\n            &lt;style&gt;\n                #map_40a649de66e7b96871967540dc890080 {\n                    position: relative;\n                    width: 100.0%;\n                    height: 100.0%;\n                    left: 0.0%;\n                    top: 0.0%;\n                }\n                .leaflet-container { font-size: 1rem; }\n            &lt;/style&gt;\n        \n    &lt;script src=&quot;https://cdnjs.cloudflare.com/ajax/libs/leaflet.markercluster/1.1.0/leaflet.markercluster.js&quot;&gt;&lt;/script&gt;\n    &lt;link rel=&quot;stylesheet&quot; href=&quot;https://cdnjs.cloudflare.com/ajax/libs/leaflet.markercluster/1.1.0/MarkerCluster.css&quot;/&gt;\n    &lt;link rel=&quot;stylesheet&quot; href=&quot;https://cdnjs.cloudflare.com/ajax/libs/leaflet.markercluster/1.1.0/MarkerCluster.Default.css&quot;/&gt;\n    &lt;script src=&quot;https://cdn.jsdelivr.net/gh/ardhi/Leaflet.MousePosition/src/L.Control.MousePosition.min.js&quot;&gt;&lt;/script&gt;\n    &lt;link rel=&quot;stylesheet&quot; href=&quot;https://cdn.jsdelivr.net/gh/ardhi/Leaflet.MousePosition/src/L.Control.MousePosition.min.css&quot;/&gt;\n&lt;/head&gt;\n&lt;body&gt;\n    \n    \n            &lt;div class=&quot;folium-map&quot; id=&quot;map_40a649de66e7b96871967540dc890080&quot; &gt;&lt;/div&gt;\n        \n&lt;/body&gt;\n&lt;script&gt;\n    \n    \n            var map_40a649de66e7b96871967540dc890080 = L.map(\n                &quot;map_40a649de66e7b96871967540dc890080&quot;,\n                {\n                    center: [29.559684888503615, -95.0830971930759],\n                    crs: L.CRS.EPSG3857,\n                    ...{\n  &quot;maxBounds&quot;: null,\n  &quot;zoom&quot;: 5,\n  &quot;zoomControl&quot;: true,\n  &quot;preferCanvas&quot;: false,\n}\n\n                }\n            );\n\n            \n\n        \n    \n            var tile_layer_693fc0d635b7960c91f1838254086bdd = L.tileLayer(\n                &quot;https://tile.openstreetmap.org/{z}/{x}/{y}.png&quot;,\n                {\n  &quot;minZoom&quot;: 0,\n  &quot;maxZoom&quot;: 19,\n  &quot;maxNativeZoom&quot;: 19,\n  &quot;noWrap&quot;: false,\n  &quot;attribution&quot;: &quot;\\u0026copy; \\u003ca href=\\&quot;https://www.openstreetmap.org/copyright\\&quot;\\u003eOpenStreetMap\\u003c/a\\u003e contributors&quot;,\n  &quot;subdomains&quot;: &quot;abc&quot;,\n  &quot;detectRetina&quot;: false,\n  &quot;tms&quot;: false,\n  &quot;opacity&quot;: 1,\n}\n\n            );\n        \n    \n            tile_layer_693fc0d635b7960c91f1838254086bdd.addTo(map_40a649de66e7b96871967540dc890080);\n        \n    \n            var circle_a60c0d986ecc03f9554bc11f0e3e35dd = L.circle(\n                [28.562302, -80.577356],\n                {&quot;bubblingMouseEvents&quot;: true, &quot;color&quot;: &quot;#d35400&quot;, &quot;dashArray&quot;: null, &quot;dashOffset&quot;: null, &quot;fill&quot;: true, &quot;fillColor&quot;: &quot;#d35400&quot;, &quot;fillOpacity&quot;: 0.2, &quot;fillRule&quot;: &quot;evenodd&quot;, &quot;lineCap&quot;: &quot;round&quot;, &quot;lineJoin&quot;: &quot;round&quot;, &quot;opacity&quot;: 1.0, &quot;radius&quot;: 1000, &quot;stroke&quot;: true, &quot;weight&quot;: 3}\n            ).addTo(map_40a649de66e7b96871967540dc890080);\n        \n    \n        var popup_33f558b170a50f05b08650dfb455dc88 = L.popup({\n  &quot;maxWidth&quot;: &quot;100%&quot;,\n  &quot;autoClose&quot;: null,\n  &quot;closeOnClick&quot;: null,\n});\n\n        \n            \n                var html_97b2aa8c1e08f9cfb52f507d2bc0304a = $(`&lt;div id=&quot;html_97b2aa8c1e08f9cfb52f507d2bc0304a&quot; style=&quot;width: 100.0%; height: 100.0%;&quot;&gt;Launch Site CCAFS LC-40&lt;/div&gt;`)[0];\n                popup_33f558b170a50f05b08650dfb455dc88.setContent(html_97b2aa8c1e08f9cfb52f507d2bc0304a);\n            \n        \n\n        circle_a60c0d986ecc03f9554bc11f0e3e35dd.bindPopup(popup_33f558b170a50f05b08650dfb455dc88)\n        ;\n\n        \n    \n    \n            var marker_e82736574d97d866b5cc1302ec284fca = L.marker(\n                [28.562302, -80.577356],\n                {\n  &quot;draggable&quot;: null,\n  &quot;autoPan&quot;: null,\n}\n            ).addTo(map_40a649de66e7b96871967540dc890080);\n        \n    \n            var div_icon_5696d875e895626f8521de08b78a2145 = L.divIcon({\n  &quot;html&quot;: &quot;\\u003cdiv style=\\&quot;font-size: 12; color:#d35400;\\&quot;\\u003e\\u003cb\\u003eLaunch Site CCAFS LC-40\\u003c/b\\u003e\\u003c/div\\u003e&quot;,\n  &quot;iconSize&quot;: [20, 20],\n  &quot;iconAnchor&quot;: [0, 0],\n  &quot;popupAnchor&quot;: null,\n  &quot;className&quot;: &quot;empty&quot;,\n});\n            marker_e82736574d97d866b5cc1302ec284fca.setIcon(div_icon_5696d875e895626f8521de08b78a2145);\n        \n    \n            var circle_679fe35333894af1ff308990bb5e0cd3 = L.circle(\n                [28.563197, -80.57682],\n                {&quot;bubblingMouseEvents&quot;: true, &quot;color&quot;: &quot;#d35400&quot;, &quot;dashArray&quot;: null, &quot;dashOffset&quot;: null, &quot;fill&quot;: true, &quot;fillColor&quot;: &quot;#d35400&quot;, &quot;fillOpacity&quot;: 0.2, &quot;fillRule&quot;: &quot;evenodd&quot;, &quot;lineCap&quot;: &quot;round&quot;, &quot;lineJoin&quot;: &quot;round&quot;, &quot;opacity&quot;: 1.0, &quot;radius&quot;: 1000, &quot;stroke&quot;: true, &quot;weight&quot;: 3}\n            ).addTo(map_40a649de66e7b96871967540dc890080);\n        \n    \n        var popup_6968b93b26ae492f50f90b194cdfecf6 = L.popup({\n  &quot;maxWidth&quot;: &quot;100%&quot;,\n  &quot;autoClose&quot;: null,\n  &quot;closeOnClick&quot;: null,\n});\n\n        \n            \n                var html_e75873df60e5e0b0fe6c8af91666d4a9 = $(`&lt;div id=&quot;html_e75873df60e5e0b0fe6c8af91666d4a9&quot; style=&quot;width: 100.0%; height: 100.0%;&quot;&gt;Launch Site CCAFS SLC-40&lt;/div&gt;`)[0];\n                popup_6968b93b26ae492f50f90b194cdfecf6.setContent(html_e75873df60e5e0b0fe6c8af91666d4a9);\n            \n        \n\n        circle_679fe35333894af1ff308990bb5e0cd3.bindPopup(popup_6968b93b26ae492f50f90b194cdfecf6)\n        ;\n\n        \n    \n    \n            var marker_b2ddedc38ffc0d7a310fc55007717b1f = L.marker(\n                [28.563197, -80.57682],\n                {\n  &quot;draggable&quot;: null,\n  &quot;autoPan&quot;: null,\n}\n            ).addTo(map_40a649de66e7b96871967540dc890080);\n        \n    \n            var div_icon_5fe37b474d57bffb15d60da627555321 = L.divIcon({\n  &quot;html&quot;: &quot;\\u003cdiv style=\\&quot;font-size: 12; color:#d35400;\\&quot;\\u003e\\u003cb\\u003eLaunch Site CCAFS SLC-40\\u003c/b\\u003e\\u003c/div\\u003e&quot;,\n  &quot;iconSize&quot;: [20, 20],\n  &quot;iconAnchor&quot;: [0, 0],\n  &quot;popupAnchor&quot;: null,\n  &quot;className&quot;: &quot;empty&quot;,\n});\n            marker_b2ddedc38ffc0d7a310fc55007717b1f.setIcon(div_icon_5fe37b474d57bffb15d60da627555321);\n        \n    \n            var circle_744a32f7c1ef0e978bdbc10b7fff02af = L.circle(\n                [28.573255, -80.646895],\n                {&quot;bubblingMouseEvents&quot;: true, &quot;color&quot;: &quot;#d35400&quot;, &quot;dashArray&quot;: null, &quot;dashOffset&quot;: null, &quot;fill&quot;: true, &quot;fillColor&quot;: &quot;#d35400&quot;, &quot;fillOpacity&quot;: 0.2, &quot;fillRule&quot;: &quot;evenodd&quot;, &quot;lineCap&quot;: &quot;round&quot;, &quot;lineJoin&quot;: &quot;round&quot;, &quot;opacity&quot;: 1.0, &quot;radius&quot;: 1000, &quot;stroke&quot;: true, &quot;weight&quot;: 3}\n            ).addTo(map_40a649de66e7b96871967540dc890080);\n        \n    \n        var popup_7ab3e7389da85669d1748b34f2aab45a = L.popup({\n  &quot;maxWidth&quot;: &quot;100%&quot;,\n  &quot;autoClose&quot;: null,\n  &quot;closeOnClick&quot;: null,\n});\n\n        \n            \n                var html_51368c0c2d683fea8c385caa15d76ec2 = $(`&lt;div id=&quot;html_51368c0c2d683fea8c385caa15d76ec2&quot; style=&quot;width: 100.0%; height: 100.0%;&quot;&gt;Launch Site KSC LC-39A&lt;/div&gt;`)[0];\n                popup_7ab3e7389da85669d1748b34f2aab45a.setContent(html_51368c0c2d683fea8c385caa15d76ec2);\n            \n        \n\n        circle_744a32f7c1ef0e978bdbc10b7fff02af.bindPopup(popup_7ab3e7389da85669d1748b34f2aab45a)\n        ;\n\n        \n    \n    \n            var marker_13135699cfead0c6a6833aa299665140 = L.marker(\n                [28.573255, -80.646895],\n                {\n  &quot;draggable&quot;: null,\n  &quot;autoPan&quot;: null,\n}\n            ).addTo(map_40a649de66e7b96871967540dc890080);\n        \n    \n            var div_icon_504327724bd33680241402efc8fdd10f = L.divIcon({\n  &quot;html&quot;: &quot;\\u003cdiv style=\\&quot;font-size: 12; color:#d35400;\\&quot;\\u003e\\u003cb\\u003eLaunch Site KSC LC-39A\\u003c/b\\u003e\\u003c/div\\u003e&quot;,\n  &quot;iconSize&quot;: [20, 20],\n  &quot;iconAnchor&quot;: [0, 0],\n  &quot;popupAnchor&quot;: null,\n  &quot;className&quot;: &quot;empty&quot;,\n});\n            marker_13135699cfead0c6a6833aa299665140.setIcon(div_icon_504327724bd33680241402efc8fdd10f);\n        \n    \n            var circle_38e4d4a5289893fdd48cdab5ae29c1db = L.circle(\n                [34.632834, -120.610745],\n                {&quot;bubblingMouseEvents&quot;: true, &quot;color&quot;: &quot;#d35400&quot;, &quot;dashArray&quot;: null, &quot;dashOffset&quot;: null, &quot;fill&quot;: true, &quot;fillColor&quot;: &quot;#d35400&quot;, &quot;fillOpacity&quot;: 0.2, &quot;fillRule&quot;: &quot;evenodd&quot;, &quot;lineCap&quot;: &quot;round&quot;, &quot;lineJoin&quot;: &quot;round&quot;, &quot;opacity&quot;: 1.0, &quot;radius&quot;: 1000, &quot;stroke&quot;: true, &quot;weight&quot;: 3}\n            ).addTo(map_40a649de66e7b96871967540dc890080);\n        \n    \n        var popup_162bfbc4e65031d084011b256767a136 = L.popup({\n  &quot;maxWidth&quot;: &quot;100%&quot;,\n  &quot;autoClose&quot;: null,\n  &quot;closeOnClick&quot;: null,\n});\n\n        \n            \n                var html_ad8da3655424fc4c85d6c6b34a3ed6fe = $(`&lt;div id=&quot;html_ad8da3655424fc4c85d6c6b34a3ed6fe&quot; style=&quot;width: 100.0%; height: 100.0%;&quot;&gt;Launch Site VAFB SLC-4E&lt;/div&gt;`)[0];\n                popup_162bfbc4e65031d084011b256767a136.setContent(html_ad8da3655424fc4c85d6c6b34a3ed6fe);\n            \n        \n\n        circle_38e4d4a5289893fdd48cdab5ae29c1db.bindPopup(popup_162bfbc4e65031d084011b256767a136)\n        ;\n\n        \n    \n    \n            var marker_7e7e626e10debf30951e461209b99286 = L.marker(\n                [34.632834, -120.610745],\n                {\n  &quot;draggable&quot;: null,\n  &quot;autoPan&quot;: null,\n}\n            ).addTo(map_40a649de66e7b96871967540dc890080);\n        \n    \n            var div_icon_b646500f503378f84dedc2f76d37d403 = L.divIcon({\n  &quot;html&quot;: &quot;\\u003cdiv style=\\&quot;font-size: 12; color:#d35400;\\&quot;\\u003e\\u003cb\\u003eLaunch Site VAFB SLC-4E\\u003c/b\\u003e\\u003c/div\\u003e&quot;,\n  &quot;iconSize&quot;: [20, 20],\n  &quot;iconAnchor&quot;: [0, 0],\n  &quot;popupAnchor&quot;: null,\n  &quot;className&quot;: &quot;empty&quot;,\n});\n            marker_7e7e626e10debf30951e461209b99286.setIcon(div_icon_b646500f503378f84dedc2f76d37d403);\n        \n    \n            tile_layer_693fc0d635b7960c91f1838254086bdd.addTo(map_40a649de66e7b96871967540dc890080);\n        \n    \n            var marker_cluster_15802befb36d62e40ddd3f33d6599c10 = L.markerClusterGroup(\n                {\n}\n            );\n        \n    \n            var marker_977223c72297ccef580befa9b45326c7 = L.marker(\n                [29.559684888503615, -95.0830971930759],\n                {\n  &quot;draggable&quot;: null,\n  &quot;autoPan&quot;: null,\n}\n            ).addTo(marker_cluster_15802befb36d62e40ddd3f33d6599c10);\n        \n    \n            var div_icon_a1e1697b7211a785919f4d02fc1a9177 = L.divIcon({\n  &quot;html&quot;: &quot;\\u003cdiv style=\\&quot;font-size: 12; color:#d35400;\\&quot;\\u003e\\u003cb\\u003eNASA JSC\\u003c/b\\u003e\\u003c/div\\u003e&quot;,\n  &quot;iconSize&quot;: [20, 20],\n  &quot;iconAnchor&quot;: [0, 0],\n  &quot;popupAnchor&quot;: null,\n  &quot;className&quot;: &quot;empty&quot;,\n});\n            marker_977223c72297ccef580befa9b45326c7.setIcon(div_icon_a1e1697b7211a785919f4d02fc1a9177);\n        \n    \n            marker_cluster_15802befb36d62e40ddd3f33d6599c10.addTo(map_40a649de66e7b96871967540dc890080);\n        \n    \n            tile_layer_693fc0d635b7960c91f1838254086bdd.addTo(map_40a649de66e7b96871967540dc890080);\n        \n    \n            marker_cluster_15802befb36d62e40ddd3f33d6599c10.addTo(map_40a649de66e7b96871967540dc890080);\n        \n    \n            var mouse_position_187db398800e539f2fa597d55fce02a1 = new L.Control.MousePosition(\n                {\n  &quot;position&quot;: &quot;topright&quot;,\n  &quot;separator&quot;: &quot; Long: &quot;,\n  &quot;emptyString&quot;: &quot;NaN&quot;,\n  &quot;lngFirst&quot;: false,\n  &quot;numDigits&quot;: 20,\n  &quot;prefix&quot;: &quot;Lat:&quot;,\n}\n            );\n            mouse_position_187db398800e539f2fa597d55fce02a1.options[&quot;latFormatter&quot;] =\n                function(num) {return L.Util.formatNum(num, 5);};;\n            mouse_position_187db398800e539f2fa597d55fce02a1.options[&quot;lngFormatter&quot;] =\n                function(num) {return L.Util.formatNum(num, 5);};;\n            map_40a649de66e7b96871967540dc890080.addControl(mouse_position_187db398800e539f2fa597d55fce02a1);\n        \n    \n            tile_layer_693fc0d635b7960c91f1838254086bdd.addTo(map_40a649de66e7b96871967540dc890080);\n        \n    \n            marker_cluster_15802befb36d62e40ddd3f33d6599c10.addTo(map_40a649de66e7b96871967540dc890080);\n        \n    \n            var marker_864f9381c7d9b20da668d0f86d583581 = L.marker(\n                [34.63494, -120.62429],\n                {\n  &quot;draggable&quot;: null,\n  &quot;autoPan&quot;: null,\n}\n            ).addTo(map_40a649de66e7b96871967540dc890080);\n        \n    \n            var div_icon_5456b2558e22fb70c14dbb59a17b81e4 = L.divIcon({\n  &quot;html&quot;: &quot;0.58 km&quot;,\n  &quot;iconSize&quot;: null,\n  &quot;iconAnchor&quot;: null,\n  &quot;popupAnchor&quot;: null,\n  &quot;className&quot;: &quot;empty&quot;,\n});\n            marker_864f9381c7d9b20da668d0f86d583581.setIcon(div_icon_5456b2558e22fb70c14dbb59a17b81e4);\n        \n    \n            tile_layer_693fc0d635b7960c91f1838254086bdd.addTo(map_40a649de66e7b96871967540dc890080);\n        \n    \n            marker_cluster_15802befb36d62e40ddd3f33d6599c10.addTo(map_40a649de66e7b96871967540dc890080);\n        \n    \n            var marker_18345ec3b68c83d3a7380108729d2c6b = L.marker(\n                [28.56367, -80.57163],\n                {\n  &quot;draggable&quot;: null,\n  &quot;autoPan&quot;: null,\n}\n            ).addTo(map_40a649de66e7b96871967540dc890080);\n        \n    \n            var div_icon_8c9ea13330e0a4269d0743fc191a3e6f = L.divIcon({\n  &quot;html&quot;: &quot;0.58 km&quot;,\n  &quot;iconSize&quot;: null,\n  &quot;iconAnchor&quot;: null,\n  &quot;popupAnchor&quot;: null,\n  &quot;className&quot;: &quot;empty&quot;,\n});\n            marker_18345ec3b68c83d3a7380108729d2c6b.setIcon(div_icon_8c9ea13330e0a4269d0743fc191a3e6f);\n        \n    \n            tile_layer_693fc0d635b7960c91f1838254086bdd.addTo(map_40a649de66e7b96871967540dc890080);\n        \n    \n            marker_cluster_15802befb36d62e40ddd3f33d6599c10.addTo(map_40a649de66e7b96871967540dc890080);\n        \n    \n            var poly_line_8a8b266bedd631b4c4d597fd4584ad8d = L.polyline(\n                [[28.56367, -80.57163], [28.562302, -80.577356]],\n                {&quot;bubblingMouseEvents&quot;: true, &quot;color&quot;: &quot;#3388ff&quot;, &quot;dashArray&quot;: null, &quot;dashOffset&quot;: null, &quot;fill&quot;: false, &quot;fillColor&quot;: &quot;#3388ff&quot;, &quot;fillOpacity&quot;: 0.2, &quot;fillRule&quot;: &quot;evenodd&quot;, &quot;lineCap&quot;: &quot;round&quot;, &quot;lineJoin&quot;: &quot;round&quot;, &quot;noClip&quot;: false, &quot;opacity&quot;: 1.0, &quot;smoothFactor&quot;: 1.0, &quot;stroke&quot;: true, &quot;weight&quot;: 3}\n            ).addTo(map_40a649de66e7b96871967540dc890080);\n        \n&lt;/script&gt;\n&lt;/html&gt;\" style=\"position:absolute;width:100%;height:100%;left:0;top:0;border:none !important;\" allowfullscreen webkitallowfullscreen mozallowfullscreen></iframe></div></div>"
          },
          "metadata": {}
        }
      ],
      "execution_count": 52
    },
    {
      "cell_type": "markdown",
      "source": "Your updated map with distance line should look like the following screenshot:\n",
      "metadata": {}
    },
    {
      "cell_type": "markdown",
      "source": "<center>\n    <img src=\"https://cf-courses-data.s3.us.cloud-object-storage.appdomain.cloud/IBM-DS0321EN-SkillsNetwork/labs/module_3/images/launch_site_marker_distance.png\">\n</center>\n",
      "metadata": {}
    },
    {
      "cell_type": "markdown",
      "source": "*TODO:* Similarly, you can draw a line betwee a launch site to its closest city, railway, highway, etc. You need to use `MousePosition` to find the their coordinates on the map first\n",
      "metadata": {}
    },
    {
      "cell_type": "markdown",
      "source": "A railway map symbol may look like this:\n",
      "metadata": {}
    },
    {
      "cell_type": "markdown",
      "source": "<center>\n    <img src=\"https://cf-courses-data.s3.us.cloud-object-storage.appdomain.cloud/IBM-DS0321EN-SkillsNetwork/labs/module_3/images/railway.png\">\n</center>\n",
      "metadata": {}
    },
    {
      "cell_type": "markdown",
      "source": "A highway map symbol may look like this:\n",
      "metadata": {}
    },
    {
      "cell_type": "markdown",
      "source": "<center>\n    <img src=\"https://cf-courses-data.s3.us.cloud-object-storage.appdomain.cloud/IBM-DS0321EN-SkillsNetwork/labs/module_3/images/highway.png\">\n</center>\n",
      "metadata": {}
    },
    {
      "cell_type": "markdown",
      "source": "A city map symbol may look like this:\n",
      "metadata": {}
    },
    {
      "cell_type": "markdown",
      "source": "<center>\n    <img src=\"https://cf-courses-data.s3.us.cloud-object-storage.appdomain.cloud/IBM-DS0321EN-SkillsNetwork/labs/module_3/images/city.png\">\n</center>\n",
      "metadata": {}
    },
    {
      "cell_type": "code",
      "source": "# Create a marker with distance to a closest city, railway, highway, etc.\n# Draw a line between the marker to the launch site\n",
      "metadata": {},
      "outputs": [],
      "execution_count": null
    },
    {
      "cell_type": "code",
      "source": "",
      "metadata": {},
      "outputs": [],
      "execution_count": null
    },
    {
      "cell_type": "code",
      "source": "from IPython.display import FileLink\nFileLink('lab_jupyter_launch_site_location.ipynb')",
      "metadata": {
        "trusted": true
      },
      "outputs": [
        {
          "execution_count": 1,
          "output_type": "execute_result",
          "data": {
            "text/plain": "/drive/DS0203EN/module_3/lab_jupyter_launch_site_location.ipynb",
            "text/html": "<a href='lab_jupyter_launch_site_location.ipynb' target='_blank'>lab_jupyter_launch_site_location.ipynb</a><br>"
          },
          "metadata": {}
        }
      ],
      "execution_count": 1
    },
    {
      "cell_type": "markdown",
      "source": "After you plot distance lines to the proximities, you can answer the following questions easily:\n\n*   Are launch sites in close proximity to railways?\n*   Are launch sites in close proximity to highways?\n*   Are launch sites in close proximity to coastline?\n*   Do launch sites keep certain distance away from cities?\n\nAlso please try to explain your findings.\n",
      "metadata": {}
    },
    {
      "cell_type": "markdown",
      "source": "# Next Steps:\n\nNow you have discovered many interesting insights related to the launch sites' location using folium, in a very interactive way. Next, you will need to build a dashboard using Ploty Dash on detailed launch records.\n",
      "metadata": {}
    },
    {
      "cell_type": "markdown",
      "source": "## Authors\n",
      "metadata": {}
    },
    {
      "cell_type": "markdown",
      "source": "[Pratiksha Verma](https://www.linkedin.com/in/pratiksha-verma-6487561b1/)\n",
      "metadata": {}
    },
    {
      "cell_type": "markdown",
      "source": "<!--## Change Log--!>\n",
      "metadata": {}
    },
    {
      "cell_type": "markdown",
      "source": "<!--| Date (YYYY-MM-DD) | Version | Changed By      | Change Description      |\n| ----------------- | ------- | -------------   | ----------------------- |\n| 2022-11-09        | 1.0     | Pratiksha Verma | Converted initial version to Jupyterlite|--!>\n",
      "metadata": {}
    },
    {
      "cell_type": "markdown",
      "source": "### <h3 align=\"center\"> IBM Corporation 2022. All rights reserved. <h3/>\n",
      "metadata": {}
    }
  ]
}